{
 "cells": [
  {
   "cell_type": "markdown",
   "id": "be44cb95",
   "metadata": {},
   "source": [
    "# ENTEROS\n",
    "Podemos asignarle valores numéricos a las variables. Python tiene 4 tipos de variables para almacenarlos."
   ]
  },
  {
   "cell_type": "code",
   "execution_count": 1,
   "id": "22610ae3",
   "metadata": {},
   "outputs": [
    {
     "data": {
      "text/plain": [
       "3"
      ]
     },
     "execution_count": 1,
     "metadata": {},
     "output_type": "execute_result"
    }
   ],
   "source": [
    "1+2"
   ]
  },
  {
   "cell_type": "code",
   "execution_count": 2,
   "id": "33935fe1",
   "metadata": {},
   "outputs": [
    {
     "data": {
      "text/plain": [
       "10"
      ]
     },
     "execution_count": 2,
     "metadata": {},
     "output_type": "execute_result"
    }
   ],
   "source": [
    "2*5"
   ]
  },
  {
   "cell_type": "markdown",
   "id": "33615110",
   "metadata": {},
   "source": [
    "## INT\n",
    "Para números enteros"
   ]
  },
  {
   "cell_type": "code",
   "execution_count": 4,
   "id": "dc73f613",
   "metadata": {},
   "outputs": [],
   "source": [
    "x=3"
   ]
  },
  {
   "cell_type": "code",
   "execution_count": 5,
   "id": "1582d2a7",
   "metadata": {},
   "outputs": [
    {
     "data": {
      "text/plain": [
       "3"
      ]
     },
     "execution_count": 5,
     "metadata": {},
     "output_type": "execute_result"
    }
   ],
   "source": [
    "x"
   ]
  },
  {
   "cell_type": "code",
   "execution_count": 10,
   "id": "9707b35c",
   "metadata": {},
   "outputs": [
    {
     "data": {
      "text/plain": [
       "21"
      ]
     },
     "execution_count": 10,
     "metadata": {},
     "output_type": "execute_result"
    }
   ],
   "source": [
    "x + x.__add__(5)"
   ]
  },
  {
   "cell_type": "code",
   "execution_count": 8,
   "id": "1eb79055",
   "metadata": {},
   "outputs": [],
   "source": [
    "x2= x.__add__(60)"
   ]
  },
  {
   "cell_type": "code",
   "execution_count": 9,
   "id": "59862c36",
   "metadata": {},
   "outputs": [
    {
     "data": {
      "text/plain": [
       "68"
      ]
     },
     "execution_count": 9,
     "metadata": {},
     "output_type": "execute_result"
    }
   ],
   "source": [
    "x2"
   ]
  },
  {
   "cell_type": "markdown",
   "id": "bfa60aa8",
   "metadata": {},
   "source": [
    "## FLOAT\n",
    "Para números decimales"
   ]
  },
  {
   "cell_type": "code",
   "execution_count": 14,
   "id": "f00db28a",
   "metadata": {},
   "outputs": [],
   "source": [
    "y= 4.5"
   ]
  },
  {
   "cell_type": "code",
   "execution_count": 15,
   "id": "e129980e",
   "metadata": {},
   "outputs": [
    {
     "data": {
      "text/plain": [
       "4.5"
      ]
     },
     "execution_count": 15,
     "metadata": {},
     "output_type": "execute_result"
    }
   ],
   "source": [
    "y"
   ]
  },
  {
   "cell_type": "code",
   "execution_count": 17,
   "id": "a67410f6",
   "metadata": {},
   "outputs": [
    {
     "data": {
      "text/plain": [
       "float"
      ]
     },
     "execution_count": 17,
     "metadata": {},
     "output_type": "execute_result"
    }
   ],
   "source": [
    "type(y)"
   ]
  },
  {
   "cell_type": "markdown",
   "id": "809a4442",
   "metadata": {},
   "source": [
    "# COMPLEX\n",
    "Para números complejos (A + Bj) donde la unidad imaginaria está representada por j."
   ]
  },
  {
   "cell_type": "code",
   "execution_count": 27,
   "id": "a596ee27",
   "metadata": {},
   "outputs": [],
   "source": [
    "c= 1+2.4565j"
   ]
  },
  {
   "cell_type": "code",
   "execution_count": 28,
   "id": "187111e5",
   "metadata": {},
   "outputs": [
    {
     "data": {
      "text/plain": [
       "((1+2.4565j), complex)"
      ]
     },
     "execution_count": 28,
     "metadata": {},
     "output_type": "execute_result"
    }
   ],
   "source": [
    "c, type(c)"
   ]
  },
  {
   "cell_type": "code",
   "execution_count": 30,
   "id": "37bacf24",
   "metadata": {},
   "outputs": [],
   "source": [
    "parte_real= c.real\n",
    "parte_imaginaria= c.imag"
   ]
  },
  {
   "cell_type": "code",
   "execution_count": 31,
   "id": "24c5723c",
   "metadata": {},
   "outputs": [
    {
     "data": {
      "text/plain": [
       "(1.0, 2.4565)"
      ]
     },
     "execution_count": 31,
     "metadata": {},
     "output_type": "execute_result"
    }
   ],
   "source": [
    "parte_real, parte_imaginaria"
   ]
  },
  {
   "cell_type": "code",
   "execution_count": null,
   "id": "9625d6c2",
   "metadata": {},
   "outputs": [],
   "source": []
  }
 ],
 "metadata": {
  "kernelspec": {
   "display_name": "Python 3 (ipykernel)",
   "language": "python",
   "name": "python3"
  },
  "language_info": {
   "codemirror_mode": {
    "name": "ipython",
    "version": 3
   },
   "file_extension": ".py",
   "mimetype": "text/x-python",
   "name": "python",
   "nbconvert_exporter": "python",
   "pygments_lexer": "ipython3",
   "version": "3.9.12"
  }
 },
 "nbformat": 4,
 "nbformat_minor": 5
}
