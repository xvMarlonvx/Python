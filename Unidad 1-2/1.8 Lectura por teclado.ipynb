{
 "cells": [
  {
   "cell_type": "markdown",
   "id": "03b0b0f7",
   "metadata": {},
   "source": [
    "# Lectura por teclado\n",
    "\n",
    "La función input() permite almacenar un valor ingresado con el teclado en una variable"
   ]
  },
  {
   "cell_type": "code",
   "execution_count": null,
   "id": "e5c97921",
   "metadata": {},
   "outputs": [],
   "source": [
    "valor = input()"
   ]
  },
  {
   "cell_type": "code",
   "execution_count": null,
   "id": "738dfc62",
   "metadata": {},
   "outputs": [],
   "source": [
    "valor"
   ]
  },
  {
   "cell_type": "markdown",
   "id": "811f0f9b",
   "metadata": {},
   "source": [
    "La función input() almacena todo como variable str. Pero se puede modificar este tipo."
   ]
  },
  {
   "cell_type": "code",
   "execution_count": null,
   "id": "3a6f0375",
   "metadata": {},
   "outputs": [],
   "source": [
    "typr(valor)"
   ]
  },
  {
   "cell_type": "code",
   "execution_count": null,
   "id": "8bd34f1c",
   "metadata": {},
   "outputs": [],
   "source": [
    "valor_num = float(input(\"Introduce un número: \"))"
   ]
  },
  {
   "cell_type": "code",
   "execution_count": null,
   "id": "cf127d9a",
   "metadata": {},
   "outputs": [],
   "source": [
    "type(valor_num)"
   ]
  },
  {
   "cell_type": "code",
   "execution_count": null,
   "id": "dee68677",
   "metadata": {},
   "outputs": [],
   "source": [
    "edad = int(input(\"Ingresa tu edad: \"))"
   ]
  },
  {
   "cell_type": "code",
   "execution_count": null,
   "id": "549ba056",
   "metadata": {},
   "outputs": [],
   "source": [
    "print(edad, type(edad))"
   ]
  }
 ],
 "metadata": {
  "kernelspec": {
   "display_name": "Python 3 (ipykernel)",
   "language": "python",
   "name": "python3"
  },
  "language_info": {
   "codemirror_mode": {
    "name": "ipython",
    "version": 3
   },
   "file_extension": ".py",
   "mimetype": "text/x-python",
   "name": "python",
   "nbconvert_exporter": "python",
   "pygments_lexer": "ipython3",
   "version": "3.9.12"
  }
 },
 "nbformat": 4,
 "nbformat_minor": 5
}
