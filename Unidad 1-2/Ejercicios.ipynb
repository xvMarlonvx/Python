{
 "cells": [
  {
   "cell_type": "markdown",
   "id": "d4572b40",
   "metadata": {},
   "source": [
    "# EJERCICIOS"
   ]
  },
  {
   "cell_type": "code",
   "execution_count": 7,
   "id": "7eee2967",
   "metadata": {},
   "outputs": [
    {
     "name": "stdout",
     "output_type": "stream",
     "text": [
      "15\n"
     ]
    }
   ],
   "source": [
    "edad = 15\n",
    "print(edad)"
   ]
  },
  {
   "cell_type": "code",
   "execution_count": 3,
   "id": "4041b104",
   "metadata": {},
   "outputs": [],
   "source": [
    "edad_cadena = str(edad)\n",
    "edad_cadena"
   ]
  },
  {
   "cell_type": "code",
   "execution_count": 8,
   "id": "cbdb76f0",
   "metadata": {},
   "outputs": [
    {
     "name": "stdout",
     "output_type": "stream",
     "text": [
      "<class 'str'>\n"
     ]
    }
   ],
   "source": [
    "print(type(edad_cadena))"
   ]
  },
  {
   "cell_type": "code",
   "execution_count": 11,
   "id": "86363e98",
   "metadata": {},
   "outputs": [
    {
     "name": "stdout",
     "output_type": "stream",
     "text": [
      "29\n"
     ]
    }
   ],
   "source": [
    "edad_2035 = (2036-2022) + edad\n",
    "print(edad_2035)"
   ]
  },
  {
   "cell_type": "code",
   "execution_count": 18,
   "id": "e892ceb9",
   "metadata": {},
   "outputs": [],
   "source": [
    "cadena = \" allitnaM nolraM , 01\""
   ]
  },
  {
   "cell_type": "code",
   "execution_count": 19,
   "id": "7d92d771",
   "metadata": {},
   "outputs": [
    {
     "data": {
      "text/plain": [
       "'10 , Marlon Mantilla '"
      ]
     },
     "execution_count": 19,
     "metadata": {},
     "output_type": "execute_result"
    }
   ],
   "source": [
    "cadena_volteada = cadena[::-1]\n",
    "cadena_volteada"
   ]
  },
  {
   "cell_type": "code",
   "execution_count": 27,
   "id": "7fb0cd69",
   "metadata": {},
   "outputs": [
    {
     "name": "stdout",
     "output_type": "stream",
     "text": [
      "Marlon Mantilla  ha sacado un:  10\n"
     ]
    }
   ],
   "source": [
    "print(cadena_volteada[5::], \"ha sacado un: \", cadena_volteada[:2])"
   ]
  },
  {
   "cell_type": "code",
   "execution_count": 2,
   "id": "58179966",
   "metadata": {},
   "outputs": [
    {
     "name": "stdout",
     "output_type": "stream",
     "text": [
      "Escriba el nombre: Transmilenio_r\n",
      "¿La longitud de su tecto es mayor o igual a 3 pero menor o igual que 12? \n",
      " False\n"
     ]
    }
   ],
   "source": [
    "cadena = input(\"Escriba el nombre: \")\n",
    "print(\"¿La longitud de su tecto es mayor o igual a 3 pero menor o igual que 12? \\n\", len(cadena) >3 and len(cadena) <=12)"
   ]
  },
  {
   "cell_type": "code",
   "execution_count": 12,
   "id": "426670e3",
   "metadata": {},
   "outputs": [
    {
     "name": "stdout",
     "output_type": "stream",
     "text": [
      "Ingrese el primer número: 8\n",
      "Ingrese el segundo número: 8\n",
      "¿Los números son iguales?  True\n",
      "¿Los números son diferentes?  False\n",
      "¿El primer número es mayor que el segundo? False\n",
      "¿El segundo número es mayor o igual que el primero?  True\n"
     ]
    }
   ],
   "source": [
    "n1 = float(input(\"Ingrese el primer número: \"))\n",
    "n2 = float(input(\"Ingrese el segundo número: \"))\n",
    "\n",
    "print(\"¿Los números son iguales? \", n1 == n2)\n",
    "print(\"¿Los números son diferentes? \", n1 != n2)\n",
    "print(\"¿El primer número es mayor que el segundo?\", n1 > n2)\n",
    "print(\"¿El segundo número es mayor o igual que el primero? \", n2 >= n1)\n"
   ]
  },
  {
   "cell_type": "code",
   "execution_count": null,
   "id": "5dac10fe",
   "metadata": {},
   "outputs": [],
   "source": []
  }
 ],
 "metadata": {
  "kernelspec": {
   "display_name": "Python 3 (ipykernel)",
   "language": "python",
   "name": "python3"
  },
  "language_info": {
   "codemirror_mode": {
    "name": "ipython",
    "version": 3
   },
   "file_extension": ".py",
   "mimetype": "text/x-python",
   "name": "python",
   "nbconvert_exporter": "python",
   "pygments_lexer": "ipython3",
   "version": "3.9.12"
  }
 },
 "nbformat": 4,
 "nbformat_minor": 5
}
