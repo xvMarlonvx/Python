{
 "cells": [
  {
   "cell_type": "markdown",
   "id": "67071cbf",
   "metadata": {},
   "source": [
    "# 1.3. Textos o Hilos de caracteres"
   ]
  },
  {
   "cell_type": "markdown",
   "id": "1b75e5d5",
   "metadata": {},
   "source": [
    "Consisten en secuencias de caracteres dentro de las comillas. En Python las variables _string_ se pueden declarar indistintamente usando comillas simples('') o dobles(\"\")"
   ]
  },
  {
   "cell_type": "code",
   "execution_count": 4,
   "id": "27289800",
   "metadata": {},
   "outputs": [
    {
     "data": {
      "text/plain": [
       "'Esto es un hilo de texto'"
      ]
     },
     "execution_count": 4,
     "metadata": {},
     "output_type": "execute_result"
    }
   ],
   "source": [
    "'Esto es un hilo de texto'"
   ]
  },
  {
   "cell_type": "code",
   "execution_count": 6,
   "id": "d43f6fae",
   "metadata": {},
   "outputs": [
    {
     "data": {
      "text/plain": [
       "'Este texto es uno distinto'"
      ]
     },
     "execution_count": 6,
     "metadata": {},
     "output_type": "execute_result"
    }
   ],
   "source": [
    "'Este texto es uno distinto'"
   ]
  },
  {
   "cell_type": "code",
   "execution_count": 14,
   "id": "a673a6cc",
   "metadata": {},
   "outputs": [],
   "source": [
    "name= 'Marlon'\n",
    "lastname= \"Mantilla\"\n",
    "profession= 'Electrical Engineer'"
   ]
  },
  {
   "cell_type": "code",
   "execution_count": 8,
   "id": "8e9a284a",
   "metadata": {},
   "outputs": [
    {
     "data": {
      "text/plain": [
       "('Marlon', 'Mantilla', 'Electrical Engineer')"
      ]
     },
     "execution_count": 8,
     "metadata": {},
     "output_type": "execute_result"
    }
   ],
   "source": [
    "nombre, lastname, profession"
   ]
  },
  {
   "cell_type": "code",
   "execution_count": 15,
   "id": "39859203",
   "metadata": {},
   "outputs": [
    {
     "name": "stdout",
     "output_type": "stream",
     "text": [
      "('My name is Marlon Mantilla') and I'm a Electrical Engineer\n"
     ]
    }
   ],
   "source": [
    "print(f\"('My name is {name} {lastname}') and I'm a {profession}\")"
   ]
  },
  {
   "cell_type": "code",
   "execution_count": 16,
   "id": "785cbd12",
   "metadata": {},
   "outputs": [
    {
     "data": {
      "text/plain": [
       "str"
      ]
     },
     "execution_count": 16,
     "metadata": {},
     "output_type": "execute_result"
    }
   ],
   "source": [
    "type(name)"
   ]
  },
  {
   "cell_type": "code",
   "execution_count": 17,
   "id": "8f47e45b",
   "metadata": {},
   "outputs": [
    {
     "name": "stdout",
     "output_type": "stream",
     "text": [
      "Marlon\n",
      "Mantilla\n"
     ]
    }
   ],
   "source": [
    "print(name)\n",
    "print(lastname)"
   ]
  },
  {
   "cell_type": "markdown",
   "id": "3bbe7d12",
   "metadata": {},
   "source": [
    "# Function _print()_"
   ]
  },
  {
   "cell_type": "markdown",
   "id": "e0731142",
   "metadata": {},
   "source": [
    "Esta función nos permite mostrar por pantalla un texto y editar su presentacuón con tabulaciones y saltos de línea"
   ]
  },
  {
   "cell_type": "code",
   "execution_count": 18,
   "id": "0ed2e83d",
   "metadata": {},
   "outputs": [
    {
     "name": "stdout",
     "output_type": "stream",
     "text": [
      "Una cadena \tseparada por una tabulación\n"
     ]
    }
   ],
   "source": [
    "print(\"Una cadena \\tseparada por una tabulación\")"
   ]
  },
  {
   "cell_type": "code",
   "execution_count": 19,
   "id": "b1b8bc05",
   "metadata": {},
   "outputs": [
    {
     "name": "stdout",
     "output_type": "stream",
     "text": [
      "Una cadena en una línea \n",
      " Una cadena en otra línea\n"
     ]
    }
   ],
   "source": [
    "print('Una cadena en una línea \\n Una cadena en otra línea')"
   ]
  },
  {
   "cell_type": "markdown",
   "id": "5f245d20",
   "metadata": {},
   "source": [
    "Para que la función print nos muestre una cadena sin procesar , debemos indicarle que la cadena es de tipo crudo, agregándo la letra _r_ antes de abrir comillas"
   ]
  },
  {
   "cell_type": "code",
   "execution_count": 20,
   "id": "d38239dd",
   "metadata": {},
   "outputs": [
    {
     "name": "stdout",
     "output_type": "stream",
     "text": [
      "C:\n",
      "ame\n",
      "ame_2\n"
     ]
    }
   ],
   "source": [
    "print(\"C:\\name\\name_2\")"
   ]
  },
  {
   "cell_type": "code",
   "execution_count": 21,
   "id": "bca27fa7",
   "metadata": {},
   "outputs": [
    {
     "name": "stdout",
     "output_type": "stream",
     "text": [
      "C:\\name\\name_2\n"
     ]
    }
   ],
   "source": [
    "print(r\"C:\\name\\name_2\")"
   ]
  },
  {
   "cell_type": "markdown",
   "id": "01c7f9b1",
   "metadata": {},
   "source": [
    "También podemos indicarle que deseamos mostrar el texto en varial líneas de la siguiente forma: Haciéndo uso de las comillas dobles _tres veces_"
   ]
  },
  {
   "cell_type": "code",
   "execution_count": 23,
   "id": "5e084e43",
   "metadata": {},
   "outputs": [
    {
     "name": "stdout",
     "output_type": "stream",
     "text": [
      "Línea 1 es esta\n",
      "y aquí tenemos la línea 2\n",
      "y esta es la 3\n",
      "y así...\n",
      "así...\n",
      "al infinito..\n"
     ]
    }
   ],
   "source": [
    "print(\"\"\"Línea 1 es esta\n",
    "y aquí tenemos la línea 2\n",
    "y esta es la 3\n",
    "y así...\n",
    "así...\n",
    "al infinito..\"\"\")"
   ]
  }
 ],
 "metadata": {
  "kernelspec": {
   "display_name": "Python 3 (ipykernel)",
   "language": "python",
   "name": "python3"
  },
  "language_info": {
   "codemirror_mode": {
    "name": "ipython",
    "version": 3
   },
   "file_extension": ".py",
   "mimetype": "text/x-python",
   "name": "python",
   "nbconvert_exporter": "python",
   "pygments_lexer": "ipython3",
   "version": "3.9.12"
  }
 },
 "nbformat": 4,
 "nbformat_minor": 5
}
