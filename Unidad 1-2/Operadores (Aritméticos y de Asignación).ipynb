{
 "cells": [
  {
   "cell_type": "markdown",
   "id": "544a452c",
   "metadata": {},
   "source": [
    "# Operadores aritméticos\n",
    "\n",
    "Los operadores aritméticos sirven principalmente para lso tipos de datos numéricos, si bien tienen algunas utilidades con otros tipos de datos como listas o cadenas de caracteres."
   ]
  },
  {
   "cell_type": "markdown",
   "id": "f01e1b53",
   "metadata": {},
   "source": [
    "## Adición\n",
    "También para cadenas de caracteres, tuplas y listas. Sigue la forma (a+b)"
   ]
  },
  {
   "cell_type": "code",
   "execution_count": 1,
   "id": "16d66e7d",
   "metadata": {},
   "outputs": [
    {
     "data": {
      "text/plain": [
       "38.5"
      ]
     },
     "execution_count": 1,
     "metadata": {},
     "output_type": "execute_result"
    }
   ],
   "source": [
    "8 + 30.5"
   ]
  },
  {
   "cell_type": "code",
   "execution_count": 2,
   "id": "8a5ec630",
   "metadata": {},
   "outputs": [
    {
     "data": {
      "text/plain": [
       "14"
      ]
     },
     "execution_count": 2,
     "metadata": {},
     "output_type": "execute_result"
    }
   ],
   "source": [
    "7+7"
   ]
  },
  {
   "cell_type": "code",
   "execution_count": 3,
   "id": "975b2ba4",
   "metadata": {},
   "outputs": [
    {
     "data": {
      "text/plain": [
       "'Hola¿cómo estás?'"
      ]
     },
     "execution_count": 3,
     "metadata": {},
     "output_type": "execute_result"
    }
   ],
   "source": [
    "'Hola' + '¿cómo estás?'"
   ]
  },
  {
   "cell_type": "markdown",
   "id": "2b53baca",
   "metadata": {},
   "source": [
    "## Substacción o Resta"
   ]
  },
  {
   "cell_type": "code",
   "execution_count": 4,
   "id": "205a025c",
   "metadata": {},
   "outputs": [
    {
     "data": {
      "text/plain": [
       "19"
      ]
     },
     "execution_count": 4,
     "metadata": {},
     "output_type": "execute_result"
    }
   ],
   "source": [
    "49-30"
   ]
  },
  {
   "cell_type": "markdown",
   "id": "40c7aa17",
   "metadata": {},
   "source": [
    "## Multiplicación\n",
    "También para cadenas de caracteres, tuplas y listas. Sigue la forma (a*b)"
   ]
  },
  {
   "cell_type": "code",
   "execution_count": 5,
   "id": "d9c55f6a",
   "metadata": {},
   "outputs": [
    {
     "data": {
      "text/plain": [
       "20.5"
      ]
     },
     "execution_count": 5,
     "metadata": {},
     "output_type": "execute_result"
    }
   ],
   "source": [
    "2.5*8.2"
   ]
  },
  {
   "cell_type": "code",
   "execution_count": 6,
   "id": "ad50d459",
   "metadata": {},
   "outputs": [
    {
     "data": {
      "text/plain": [
       "'MarlonMarlon'"
      ]
     },
     "execution_count": 6,
     "metadata": {},
     "output_type": "execute_result"
    }
   ],
   "source": [
    "\"Marlon\"*2"
   ]
  },
  {
   "cell_type": "markdown",
   "id": "c602a7e0",
   "metadata": {},
   "source": [
    "## División"
   ]
  },
  {
   "cell_type": "markdown",
   "id": "f571f75f",
   "metadata": {},
   "source": [
    "Sigue la forma (a/b)"
   ]
  },
  {
   "cell_type": "code",
   "execution_count": 15,
   "id": "1b923a31",
   "metadata": {},
   "outputs": [
    {
     "data": {
      "text/plain": [
       "1.8"
      ]
     },
     "execution_count": 15,
     "metadata": {},
     "output_type": "execute_result"
    }
   ],
   "source": [
    "9/5"
   ]
  },
  {
   "cell_type": "markdown",
   "id": "2d17b85f",
   "metadata": {},
   "source": [
    "### División entrera truncada\n",
    "Nos da como resultado un valir de tipo entero. REdondea hacía abajo los valores decimales. Sigue la forma (a//b)"
   ]
  },
  {
   "cell_type": "code",
   "execution_count": 9,
   "id": "647c901b",
   "metadata": {},
   "outputs": [
    {
     "data": {
      "text/plain": [
       "3"
      ]
     },
     "execution_count": 9,
     "metadata": {},
     "output_type": "execute_result"
    }
   ],
   "source": [
    "19//5"
   ]
  },
  {
   "cell_type": "markdown",
   "id": "faafbae9",
   "metadata": {},
   "source": [
    "### Módulo o resíduo de la división\n",
    "Sigue la forma (a%b)"
   ]
  },
  {
   "cell_type": "code",
   "execution_count": 11,
   "id": "314c4fa8",
   "metadata": {},
   "outputs": [
    {
     "name": "stdout",
     "output_type": "stream",
     "text": [
      "3\n"
     ]
    }
   ],
   "source": [
    "print(19//5)"
   ]
  },
  {
   "cell_type": "markdown",
   "id": "b996821d",
   "metadata": {},
   "source": [
    "### Exponenciación\n",
    "Sigue la forma (a**b)"
   ]
  },
  {
   "cell_type": "code",
   "execution_count": 14,
   "id": "75202bc0",
   "metadata": {},
   "outputs": [
    {
     "data": {
      "text/plain": [
       "1024"
      ]
     },
     "execution_count": 14,
     "metadata": {},
     "output_type": "execute_result"
    }
   ],
   "source": [
    "4**5"
   ]
  },
  {
   "cell_type": "markdown",
   "id": "4fe2edd5",
   "metadata": {},
   "source": [
    "## Operadores de asignación\n",
    "Los operadores de asignación nos facilitan escribir código. Estos son los siguientes:\n",
    "[= ; -= ; += ; /= ; '= ; %= ; //= ; ** =]"
   ]
  },
  {
   "cell_type": "code",
   "execution_count": 24,
   "id": "fa123a2a",
   "metadata": {},
   "outputs": [
    {
     "data": {
      "text/plain": [
       "10"
      ]
     },
     "execution_count": 24,
     "metadata": {},
     "output_type": "execute_result"
    }
   ],
   "source": [
    "edad = 10\n",
    "edad"
   ]
  },
  {
   "cell_type": "code",
   "execution_count": 25,
   "id": "cc705190",
   "metadata": {},
   "outputs": [
    {
     "data": {
      "text/plain": [
       "7"
      ]
     },
     "execution_count": 25,
     "metadata": {},
     "output_type": "execute_result"
    }
   ],
   "source": [
    "edad = edad - 3\n",
    "edad"
   ]
  },
  {
   "cell_type": "code",
   "execution_count": 26,
   "id": "177cc2c2",
   "metadata": {},
   "outputs": [
    {
     "data": {
      "text/plain": [
       "10"
      ]
     },
     "execution_count": 26,
     "metadata": {},
     "output_type": "execute_result"
    }
   ],
   "source": [
    "edad = 10\n",
    "edad"
   ]
  },
  {
   "cell_type": "code",
   "execution_count": 28,
   "id": "67f2dafe",
   "metadata": {},
   "outputs": [
    {
     "data": {
      "text/plain": [
       "4"
      ]
     },
     "execution_count": 28,
     "metadata": {},
     "output_type": "execute_result"
    }
   ],
   "source": [
    "edad -= 3\n",
    "edad"
   ]
  },
  {
   "cell_type": "code",
   "execution_count": 36,
   "id": "8fd76e12",
   "metadata": {},
   "outputs": [
    {
     "data": {
      "text/plain": [
       "0.8"
      ]
     },
     "execution_count": 36,
     "metadata": {},
     "output_type": "execute_result"
    }
   ],
   "source": [
    "edad /= 5\n",
    "edad"
   ]
  }
 ],
 "metadata": {
  "kernelspec": {
   "display_name": "Python 3 (ipykernel)",
   "language": "python",
   "name": "python3"
  },
  "language_info": {
   "codemirror_mode": {
    "name": "ipython",
    "version": 3
   },
   "file_extension": ".py",
   "mimetype": "text/x-python",
   "name": "python",
   "nbconvert_exporter": "python",
   "pygments_lexer": "ipython3",
   "version": "3.9.12"
  }
 },
 "nbformat": 4,
 "nbformat_minor": 5
}
