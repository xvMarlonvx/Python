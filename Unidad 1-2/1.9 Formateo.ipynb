{
 "cells": [
  {
   "cell_type": "markdown",
   "id": "c6864cdf",
   "metadata": {},
   "source": [
    "# 2.9 Formateo"
   ]
  },
  {
   "cell_type": "code",
   "execution_count": 2,
   "id": "867479a2",
   "metadata": {},
   "outputs": [
    {
     "data": {
      "text/plain": [
       "'1 es el primer valor y 2 es el segundo'"
      ]
     },
     "execution_count": 2,
     "metadata": {},
     "output_type": "execute_result"
    }
   ],
   "source": [
    "'{} es el primer valor y {} es el segundo'.format(1,2)"
   ]
  },
  {
   "cell_type": "code",
   "execution_count": 3,
   "id": "e0e91666",
   "metadata": {},
   "outputs": [
    {
     "data": {
      "text/plain": [
       "'En este caso alternamos el orden y el Dos aparece primero, luego el Uno'"
      ]
     },
     "execution_count": 3,
     "metadata": {},
     "output_type": "execute_result"
    }
   ],
   "source": [
    "'En este caso alternamos el orden y el {1} aparece primero, luego el {0}'.format(\"Uno\",\"Dos\")"
   ]
  },
  {
   "cell_type": "code",
   "execution_count": 4,
   "id": "cba1f291",
   "metadata": {},
   "outputs": [
    {
     "name": "stdout",
     "output_type": "stream",
     "text": [
      "El valor de la cartuja de parma es 0.7\n"
     ]
    }
   ],
   "source": [
    "nombre = 'la cartuja de parma'\n",
    "x= .7\n",
    "print(f'El valor de {nombre} es', x)"
   ]
  },
  {
   "cell_type": "markdown",
   "id": "5fb28e0e",
   "metadata": {},
   "source": [
    "También podemos aplicar métodos"
   ]
  },
  {
   "cell_type": "code",
   "execution_count": 7,
   "id": "745a5862",
   "metadata": {},
   "outputs": [
    {
     "name": "stdout",
     "output_type": "stream",
     "text": [
      "El valor de La Cartuja De Parma \n",
      " es 0.7 dólares por el papel\n"
     ]
    }
   ],
   "source": [
    "print(f'El valor de {nombre.title()} \\n es', x, 'dólares por el papel')"
   ]
  },
  {
   "cell_type": "code",
   "execution_count": 9,
   "id": "f2acfa9e",
   "metadata": {},
   "outputs": [
    {
     "name": "stdout",
     "output_type": "stream",
     "text": [
      "{'uno': 0.7, 'dos': 10.7}\n"
     ]
    }
   ],
   "source": [
    "diccionario = {'uno': x, 'dos': x.__add__(10)}\n",
    "print(diccionario)"
   ]
  },
  {
   "cell_type": "code",
   "execution_count": 10,
   "id": "2dea5700",
   "metadata": {},
   "outputs": [
    {
     "name": "stdout",
     "output_type": "stream",
     "text": [
      "La Cartuja De Parma cuesta 0.7 pesos y el otro libro 10.7 pesos.\n"
     ]
    }
   ],
   "source": [
    "print(f'{nombre.title()} cuesta {diccionario[\"uno\"]} pesos y el otro libro {diccionario[\"dos\"]} pesos.')"
   ]
  }
 ],
 "metadata": {
  "kernelspec": {
   "display_name": "Python 3 (ipykernel)",
   "language": "python",
   "name": "python3"
  },
  "language_info": {
   "codemirror_mode": {
    "name": "ipython",
    "version": 3
   },
   "file_extension": ".py",
   "mimetype": "text/x-python",
   "name": "python",
   "nbconvert_exporter": "python",
   "pygments_lexer": "ipython3",
   "version": "3.9.12"
  }
 },
 "nbformat": 4,
 "nbformat_minor": 5
}
