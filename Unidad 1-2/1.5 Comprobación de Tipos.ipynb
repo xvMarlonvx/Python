{
 "cells": [
  {
   "cell_type": "markdown",
   "id": "8fcd1b5c",
   "metadata": {},
   "source": [
    "# 1.5 Comprobación de Tipos\n",
    "Tipo _None_ no tiene tipo, es vacío. Sirve para colocarlo como valor predefinido o sin valor."
   ]
  },
  {
   "cell_type": "code",
   "execution_count": 1,
   "id": "230a996b",
   "metadata": {},
   "outputs": [
    {
     "name": "stdout",
     "output_type": "stream",
     "text": [
      "-1 <class 'int'>\n"
     ]
    }
   ],
   "source": [
    "print(-1, type(-1))"
   ]
  },
  {
   "cell_type": "code",
   "execution_count": 3,
   "id": "b42e01cf",
   "metadata": {},
   "outputs": [
    {
     "name": "stdout",
     "output_type": "stream",
     "text": [
      "3.141516 <class 'float'>\n"
     ]
    }
   ],
   "source": [
    "print(3.141516, type(3.141516))"
   ]
  },
  {
   "cell_type": "code",
   "execution_count": 4,
   "id": "2e0c77c1",
   "metadata": {},
   "outputs": [
    {
     "name": "stdout",
     "output_type": "stream",
     "text": [
      "hola <class 'str'>\n"
     ]
    }
   ],
   "source": [
    "print(\"hola\", type(\"hola\"))"
   ]
  },
  {
   "cell_type": "code",
   "execution_count": 5,
   "id": "a989a537",
   "metadata": {},
   "outputs": [
    {
     "name": "stdout",
     "output_type": "stream",
     "text": [
      "True <class 'bool'>\n"
     ]
    }
   ],
   "source": [
    "print(True, type(True))"
   ]
  },
  {
   "cell_type": "code",
   "execution_count": 6,
   "id": "ae4da9e0",
   "metadata": {},
   "outputs": [
    {
     "name": "stdout",
     "output_type": "stream",
     "text": [
      "None <class 'NoneType'>\n"
     ]
    }
   ],
   "source": [
    "print(None, type(None))"
   ]
  },
  {
   "cell_type": "markdown",
   "id": "2109d12d",
   "metadata": {},
   "source": [
    "# _Conversión de Tipos_"
   ]
  },
  {
   "cell_type": "code",
   "execution_count": 8,
   "id": "c3e3ea68",
   "metadata": {},
   "outputs": [
    {
     "name": "stdout",
     "output_type": "stream",
     "text": [
      "<class 'int'>\n"
     ]
    }
   ],
   "source": [
    "x=2\n",
    "print(type(x))"
   ]
  },
  {
   "cell_type": "code",
   "execution_count": 11,
   "id": "b414df09",
   "metadata": {},
   "outputs": [
    {
     "name": "stdout",
     "output_type": "stream",
     "text": [
      "2\n",
      "<class 'str'>\n"
     ]
    }
   ],
   "source": [
    "nu_x= str(x)\n",
    "print(nu_x)\n",
    "print(type(nu_x))"
   ]
  },
  {
   "cell_type": "markdown",
   "id": "553182ab",
   "metadata": {},
   "source": [
    "También podemos hacer una conversiín sin asignar valores a una variable"
   ]
  },
  {
   "cell_type": "code",
   "execution_count": 10,
   "id": "53ccbc25",
   "metadata": {},
   "outputs": [
    {
     "name": "stdout",
     "output_type": "stream",
     "text": [
      "2\n"
     ]
    }
   ],
   "source": [
    "print(int(2.1))"
   ]
  },
  {
   "cell_type": "code",
   "execution_count": 15,
   "id": "874d9c4f",
   "metadata": {},
   "outputs": [
    {
     "name": "stdout",
     "output_type": "stream",
     "text": [
      "1 y el otro es 0\n"
     ]
    }
   ],
   "source": [
    "print(int(True), \"y el otro es\", int(False))"
   ]
  },
  {
   "cell_type": "code",
   "execution_count": 16,
   "id": "86879918",
   "metadata": {},
   "outputs": [
    {
     "name": "stdout",
     "output_type": "stream",
     "text": [
      "2\n"
     ]
    }
   ],
   "source": [
    "print(int(\"2\"))"
   ]
  },
  {
   "cell_type": "code",
   "execution_count": 17,
   "id": "5ee2402a",
   "metadata": {},
   "outputs": [
    {
     "name": "stdout",
     "output_type": "stream",
     "text": [
      "2\n"
     ]
    }
   ],
   "source": [
    "print(str(2))"
   ]
  },
  {
   "cell_type": "code",
   "execution_count": 18,
   "id": "5a26c0b4",
   "metadata": {},
   "outputs": [
    {
     "name": "stdout",
     "output_type": "stream",
     "text": [
      "3.141516\n"
     ]
    }
   ],
   "source": [
    "print(str(3.141516))"
   ]
  },
  {
   "cell_type": "code",
   "execution_count": 19,
   "id": "b1c57463",
   "metadata": {},
   "outputs": [
    {
     "name": "stdout",
     "output_type": "stream",
     "text": [
      "True y el otro es False\n"
     ]
    }
   ],
   "source": [
    "print(str(True), \"y el otro es\", str(False))"
   ]
  },
  {
   "cell_type": "code",
   "execution_count": 20,
   "id": "86580bc6",
   "metadata": {},
   "outputs": [
    {
     "name": "stdout",
     "output_type": "stream",
     "text": [
      "None\n"
     ]
    }
   ],
   "source": [
    "print(str(None))"
   ]
  }
 ],
 "metadata": {
  "kernelspec": {
   "display_name": "Python 3 (ipykernel)",
   "language": "python",
   "name": "python3"
  },
  "language_info": {
   "codemirror_mode": {
    "name": "ipython",
    "version": 3
   },
   "file_extension": ".py",
   "mimetype": "text/x-python",
   "name": "python",
   "nbconvert_exporter": "python",
   "pygments_lexer": "ipython3",
   "version": "3.9.12"
  }
 },
 "nbformat": 4,
 "nbformat_minor": 5
}
