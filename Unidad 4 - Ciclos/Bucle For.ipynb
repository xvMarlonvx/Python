{
 "cells": [
  {
   "cell_type": "markdown",
   "id": "076e736c",
   "metadata": {},
   "source": [
    "# 4.3 Bucle _For_\n",
    "\n",
    "### _For_ es un bucle que se repite un número predeterminado de veces.\n",
    "\n",
    "### El bucle se reitera tantas veces como elementos tenga el objeto (iterable) que recorre el For.\n",
    "\n",
    "### Los objetos iterables pueden ser listas, cadenas de texto, etc."
   ]
  },
  {
   "cell_type": "code",
   "execution_count": 2,
   "id": "153b1194",
   "metadata": {},
   "outputs": [
    {
     "name": "stdout",
     "output_type": "stream",
     "text": [
      "1\n",
      "2\n",
      "3\n",
      "4\n",
      "5\n",
      "6\n",
      "7\n",
      "8\n",
      "9\n",
      "10\n"
     ]
    }
   ],
   "source": [
    "numeros= [1,2,3,4,5,6,7,8,9,10]\n",
    "indice=0\n",
    "\n",
    "while (indice<len(numeros)):\n",
    "    print(numeros[indice])\n",
    "    indice +=1"
   ]
  },
  {
   "cell_type": "code",
   "execution_count": 3,
   "id": "734bc7c4",
   "metadata": {},
   "outputs": [
    {
     "name": "stdout",
     "output_type": "stream",
     "text": [
      "1\n",
      "2\n",
      "3\n",
      "4\n",
      "5\n",
      "6\n",
      "7\n",
      "8\n",
      "9\n",
      "10\n"
     ]
    }
   ],
   "source": [
    "for i in numeros:\n",
    "    print(i)"
   ]
  },
  {
   "cell_type": "markdown",
   "id": "5b144523",
   "metadata": {},
   "source": [
    "### Ya que listas son mutables podemos modificar su contenido en un bucle."
   ]
  },
  {
   "cell_type": "code",
   "execution_count": 6,
   "id": "49226ed9",
   "metadata": {},
   "outputs": [
    {
     "data": {
      "text/plain": [
       "[0, 10, 20, 30, 40, 50, 60, 70, 80, 90, 100]"
      ]
     },
     "execution_count": 6,
     "metadata": {},
     "output_type": "execute_result"
    }
   ],
   "source": [
    "indice= 0\n",
    "numeros = [0,1,2,3,4,5,6,7,8,9,10]\n",
    "\n",
    "for numero in numeros:\n",
    "    numeros[indice] *=10\n",
    "    indice +=1\n",
    "numeros"
   ]
  },
  {
   "cell_type": "markdown",
   "id": "4b2c1235",
   "metadata": {},
   "source": [
    "## _Enumerate()_\n",
    "\n",
    "Permite realizar una lectura secuencial del objeto con clave y valor.\n",
    "\n",
    "Esta función devuelve el elemento y su índice*"
   ]
  },
  {
   "cell_type": "code",
   "execution_count": 9,
   "id": "a0ad526d",
   "metadata": {},
   "outputs": [
    {
     "data": {
      "text/plain": [
       "[0, 10, 20, 30, 40, 50, 60, 70, 80, 90, 100]"
      ]
     },
     "execution_count": 9,
     "metadata": {},
     "output_type": "execute_result"
    }
   ],
   "source": [
    "numeros = [0,1,2,3,4,5,6,7,8,9,10]\n",
    "\n",
    "for indice,numero in enumerate(numeros): #Primera \"Variable\" es la clave y el segundo \"Número\" es el valor\n",
    "    numeros[indice] *=10\n",
    "    \n",
    "numeros"
   ]
  },
  {
   "cell_type": "markdown",
   "id": "9dd7803e",
   "metadata": {},
   "source": [
    "### Podemos recorrer una cadena de texto"
   ]
  },
  {
   "cell_type": "code",
   "execution_count": 16,
   "id": "9ed1a65d",
   "metadata": {},
   "outputs": [
    {
     "name": "stdout",
     "output_type": "stream",
     "text": [
      "Hola, mi gente\n",
      "***************\n"
     ]
    }
   ],
   "source": [
    "cad = \"Hola, mi gente\\n\"\n",
    "\n",
    "for caracter in cad:\n",
    "    cad += \"*\"\n",
    "print(cad)"
   ]
  },
  {
   "cell_type": "code",
   "execution_count": 11,
   "id": "0721282c",
   "metadata": {},
   "outputs": [
    {
     "name": "stdout",
     "output_type": "stream",
     "text": [
      "Hola, si gente \n",
      " Hola, si gente**************\n"
     ]
    }
   ],
   "source": [
    "cad_2 = 'Hola, si gente'\n",
    "\n",
    "for caracter in cad:\n",
    "    cad_2 += \"*\"\n",
    "print(cad, \"\\n\", cad_2)"
   ]
  },
  {
   "cell_type": "code",
   "execution_count": 14,
   "id": "8e1f0fdd",
   "metadata": {},
   "outputs": [
    {
     "data": {
      "text/plain": [
       "'HHHHoooollllaaaa,,,,    ssssiiii    ggggeeeennnntttteeee'"
      ]
     },
     "execution_count": 14,
     "metadata": {},
     "output_type": "execute_result"
    }
   ],
   "source": [
    "cad_3 =\"\"\n",
    "\n",
    "for caracter in cad:\n",
    "    cad_3 += caracter*4\n",
    "cad_3"
   ]
  },
  {
   "cell_type": "markdown",
   "id": "0b6e5c3a",
   "metadata": {},
   "source": [
    "### PROTIP\n",
    "\n",
    "### _range()_ genera las secuencia de números enteros definida por el usuario."
   ]
  },
  {
   "cell_type": "code",
   "execution_count": 22,
   "id": "6a355f6e",
   "metadata": {},
   "outputs": [
    {
     "data": {
      "text/plain": [
       "range(0, 10, 4)"
      ]
     },
     "execution_count": 22,
     "metadata": {},
     "output_type": "execute_result"
    }
   ],
   "source": [
    "range(0, 10, 4)"
   ]
  },
  {
   "cell_type": "code",
   "execution_count": 23,
   "id": "981d9703",
   "metadata": {},
   "outputs": [
    {
     "name": "stdout",
     "output_type": "stream",
     "text": [
      "range(0, 10) <class 'range'>\n"
     ]
    }
   ],
   "source": [
    "print(range(10),type(range(10)))"
   ]
  },
  {
   "cell_type": "code",
   "execution_count": 29,
   "id": "78c34941",
   "metadata": {},
   "outputs": [
    {
     "ename": "SyntaxError",
     "evalue": "invalid syntax (4068247900.py, line 1)",
     "output_type": "error",
     "traceback": [
      "\u001b[1;36m  Input \u001b[1;32mIn [29]\u001b[1;36m\u001b[0m\n\u001b[1;33m    for i=2 in range(10):\u001b[0m\n\u001b[1;37m         ^\u001b[0m\n\u001b[1;31mSyntaxError\u001b[0m\u001b[1;31m:\u001b[0m invalid syntax\n"
     ]
    }
   ],
   "source": [
    "for i=2 in range(10):\n",
    "    print(i)"
   ]
  },
  {
   "cell_type": "code",
   "execution_count": 20,
   "id": "08c46d42",
   "metadata": {},
   "outputs": [
    {
     "name": "stdout",
     "output_type": "stream",
     "text": [
      "5\n",
      "8\n",
      "11\n",
      "14\n",
      "17\n",
      "20\n",
      "23\n",
      "26\n",
      "29\n"
     ]
    }
   ],
   "source": [
    "for i in range(5,30,3):\n",
    "    print(i)"
   ]
  },
  {
   "cell_type": "code",
   "execution_count": 21,
   "id": "d480225f",
   "metadata": {},
   "outputs": [
    {
     "name": "stdout",
     "output_type": "stream",
     "text": [
      "[0, 1, 2, 3, 4]\n",
      "0\n",
      "[0, 1, 2, 3, 4]\n",
      "1\n",
      "[0, 1, 2, 3, 4]\n",
      "2\n",
      "[0, 1, 2, 3, 4]\n",
      "3\n",
      "[0, 1, 2, 3, 4]\n",
      "4\n"
     ]
    }
   ],
   "source": [
    "lista = list(range(5))\n",
    "\n",
    "for i in lista:\n",
    "    print(lista)\n",
    "    print(i)"
   ]
  }
 ],
 "metadata": {
  "kernelspec": {
   "display_name": "Python 3 (ipykernel)",
   "language": "python",
   "name": "python3"
  },
  "language_info": {
   "codemirror_mode": {
    "name": "ipython",
    "version": 3
   },
   "file_extension": ".py",
   "mimetype": "text/x-python",
   "name": "python",
   "nbconvert_exporter": "python",
   "pygments_lexer": "ipython3",
   "version": "3.9.12"
  }
 },
 "nbformat": 4,
 "nbformat_minor": 5
}
