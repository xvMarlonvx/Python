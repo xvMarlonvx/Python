{
 "cells": [
  {
   "cell_type": "markdown",
   "id": "e0d9c034",
   "metadata": {},
   "source": [
    "### 1) Realiza un programa que lea dos números por teclado y permita elegir entre 3 opciones en un menú:\n",
    "\n",
    "* Mostrar la suma de dos números.\n",
    "* Mostrar la resta de dos número (el primero menos el segundo)\n",
    "* Mostrar la multiplicación de dos números.\n",
    "\n",
    "### Si ingresamos una opción inválida, el programa informará que es incorrecto."
   ]
  },
  {
   "cell_type": "code",
   "execution_count": 1,
   "id": "beb44d3a",
   "metadata": {},
   "outputs": [
    {
     "name": "stdout",
     "output_type": "stream",
     "text": [
      "Escriba el primer número: 1\n",
      "Escriba el segundo número: 2\n",
      "Hola. ¿Qué deseas hacer de las siguientes opciones?\n",
      " 1. Sumar los dos números.\n",
      " 2. Restar los dos números\n",
      " 3. Realizar la multiplicación\n",
      "\n",
      "Escriba la operación: 1\n",
      "La suma de los números 1.0 y 2.0 es:  3.0\n"
     ]
    }
   ],
   "source": [
    "n_1 =float(input(\"Escriba el primer número: \"))\n",
    "n_2 =float(input(\"Escriba el segundo número: \"))\n",
    "\n",
    "print(\"Hola. ¿Qué deseas hacer de las siguientes opciones?\\n 1. Sumar los dos números.\\n 2. Restar los dos números\\n 3. Realizar la multiplicación\\n\")\n",
    "menu = int(input(\"Escriba la operación: \"))\n",
    "if menu==1:\n",
    "    resul= n_1 + n_2\n",
    "    print(f\"La suma de los números {n_1} y {n_2} es: \", resul)\n",
    "elif menu==2:\n",
    "    resul=n_1-n_2\n",
    "    print(f\"La resta entre los números {n_1} y {n_2} es: \", resul)\n",
    "elif menu==3:\n",
    "    resul=n_1*n_2\n",
    "    print(f\"La multiplicación entre los números {n_1} y {n_2} es: \", resul)\n",
    "else:\n",
    "    print(f\"La opción {menu} está fuera del rango\")"
   ]
  },
  {
   "cell_type": "markdown",
   "id": "0342bfcb",
   "metadata": {},
   "source": [
    "### 2) Dada una lista de _strings_ (Cadenas de caracteres), haga un programa que:\n",
    "\n",
    "* El número de strings que tienen una longitud de 2 o más caracteres y cuyo primer y último caracter son iguales.\n",
    "* Una lista con estos strings."
   ]
  },
  {
   "cell_type": "code",
   "execution_count": 2,
   "id": "6c105736",
   "metadata": {},
   "outputs": [
    {
     "data": {
      "text/plain": [
       "(3, ['avila', 'este', 'narracion'])"
      ]
     },
     "execution_count": 2,
     "metadata": {},
     "output_type": "execute_result"
    }
   ],
   "source": [
    "lista= ['avila', 'cafe', 'este', 'narracion', 'buda', 'extra', 'salida']\n",
    "lista2=[]\n",
    "suma = 0\n",
    "for item in lista:\n",
    "    if(len(item) >= 2 and (item[0]==item[-1])):\n",
    "        suma +=1\n",
    "        lista2.append(item)\n",
    "suma,lista2"
   ]
  },
  {
   "cell_type": "markdown",
   "id": "1a971260",
   "metadata": {},
   "source": [
    "###  3) Realiza un progama que pida un número impar, si el usuario no ingresa un número impar, debe repetir el proceso hasta qye ingrese un número válido."
   ]
  },
  {
   "cell_type": "code",
   "execution_count": 3,
   "id": "186b4e05",
   "metadata": {},
   "outputs": [
    {
     "name": "stdout",
     "output_type": "stream",
     "text": [
      "Escriba el número impar: 2\n",
      "Escriba el número impar: 3\n"
     ]
    }
   ],
   "source": [
    "while (True):\n",
    "    n_1=int(input(\"Escriba el número impar: \"))\n",
    "    impar=n_1%2\n",
    "    if impar != 0:\n",
    "        break\n"
   ]
  },
  {
   "cell_type": "markdown",
   "id": "04d10514",
   "metadata": {},
   "source": [
    "### 4) Realiza un programa que sume todos los números pares desde el 0 hasta el 100\n",
    "\n",
    "PROTIP: Utilizar funciones sum() y range(). El tercer parámetro de range(inicio, fin, salto) indica el incremento entre los valores del rango."
   ]
  },
  {
   "cell_type": "code",
   "execution_count": 4,
   "id": "f36f6c8c",
   "metadata": {},
   "outputs": [
    {
     "data": {
      "text/plain": [
       "2550"
      ]
     },
     "execution_count": 4,
     "metadata": {},
     "output_type": "execute_result"
    }
   ],
   "source": [
    "# Caso 1: Suma por medio de listas\n",
    "sum(list(range(0,101,2)))"
   ]
  },
  {
   "cell_type": "code",
   "execution_count": 5,
   "id": "d75f51dc",
   "metadata": {},
   "outputs": [
    {
     "data": {
      "text/plain": [
       "(100, 102)"
      ]
     },
     "execution_count": 5,
     "metadata": {},
     "output_type": "execute_result"
    }
   ],
   "source": [
    "# Caso 2: Utilizando bucles\n",
    "num=0\n",
    "suma=0\n",
    "for num in range(0,101,2):\n",
    "    suma +=2\n",
    "\n",
    "num,suma"
   ]
  },
  {
   "cell_type": "code",
   "execution_count": null,
   "id": "f500ee43",
   "metadata": {},
   "outputs": [],
   "source": [
    "num=0\n",
    "suma=0\n",
    "while num<=100:\n",
    "    if (num%2 ==0):\n",
    "        suma += num\n",
    "        num += 1\n",
    "print(suma)"
   ]
  },
  {
   "cell_type": "markdown",
   "id": "1be269a7",
   "metadata": {},
   "source": [
    "### 5) Realiza un programa que pregunte al usuario cuántos números quiere introducir. Luego debe leer todos los números y obtener la media aritmética."
   ]
  },
  {
   "cell_type": "code",
   "execution_count": 20,
   "id": "d8d824a9",
   "metadata": {},
   "outputs": [
    {
     "name": "stdout",
     "output_type": "stream",
     "text": [
      "Escriba la cantidad de números que quiere promediar: 4\n",
      "Primer número: 7\n",
      "Primer número: 8\n",
      "Primer número: 9\n",
      "Primer número: 50\n",
      "Resultado 18.5\n"
     ]
    }
   ],
   "source": [
    "num=int(input(\"Escriba la cantidad de números que quiere promediar: \"))\n",
    "suma=0\n",
    "\n",
    "for x in range(num):\n",
    "    suma += float(input(\"Primer número: \"))\n",
    "\n",
    "print(f\"Resultado {suma/num}\")"
   ]
  },
  {
   "cell_type": "markdown",
   "id": "4d777734",
   "metadata": {},
   "source": [
    "### 6) Realiza un programa que pida el usuario un número entero entre 0 al 9, y que mientras el número no sea correcto se repita el proceso. Luego debe comprobar si el número se encuentra en la lista de números [0,1,3,5,8,9] y notificarlo:\n",
    "\n",
    "Protip: El comando (i IN lista) evalua la proposición lógica de si existe en elemento i dentro del objeto lista"
   ]
  },
  {
   "cell_type": "code",
   "execution_count": 41,
   "id": "e1f9ad32",
   "metadata": {},
   "outputs": [
    {
     "name": "stdout",
     "output_type": "stream",
     "text": [
      "Escriba un número de la lista: 7\n",
      "El número 7 no hace parte de la lista\n"
     ]
    }
   ],
   "source": [
    "lista=[0,1,3,5,8,9]\n",
    "\n",
    "while (True):\n",
    "    numero=int(input(\"Escriba un número de la lista: \"))\n",
    "    if numero >= 0 and numero <= 9:\n",
    "        break\n",
    "        \n",
    "if numero in lista:\n",
    "    print(f\"El número {numero} se encuentra en la lista señalada {lista}\")\n",
    "else:\n",
    "    print(f\"El número {numero} no hace parte de la lista\")"
   ]
  },
  {
   "cell_type": "markdown",
   "id": "973d5228",
   "metadata": {},
   "source": [
    "### 7) Utilizando la función _range()_ y la conversión a listas, genera las siguientes listas dinámicamente:\n",
    "* Todos los números del 0 a 10 [0,1, ...,10]\n",
    "* Todos los números del -10 a 0 [-10,-9,-8, ...,0]\n",
    "* Todos los números pares entre el 0 al 20 [0,2,4, ...,20]\n",
    "* Todos los números impares entre el -20 al 0 [-19,-17,-15, ...,-1]\n",
    "* Todos los números múltiplos de 5 del 0 al 50 [0,5,10,15, ..., 50]"
   ]
  },
  {
   "cell_type": "code",
   "execution_count": 53,
   "id": "66e47b6b",
   "metadata": {},
   "outputs": [
    {
     "name": "stdout",
     "output_type": "stream",
     "text": [
      " [0, 1, 2, 3, 4, 5, 6, 7, 8, 9, 10]\n",
      " [-10, -9, -8, -7, -6, -5, -4, -3, -2, -1, 0]\n",
      " [0, 2, 4, 6, 8, 10, 12, 14, 16, 18, 20]\n",
      " [-19, -17, -15, -13, -11, -9, -7, -5, -3, -1]\n",
      " [0, 5, 10, 15, 20, 25, 30, 35, 40, 45]\n"
     ]
    }
   ],
   "source": [
    "# a:\n",
    "print(\"\", list(range(0,11)))\n",
    "#b\n",
    "print(\"\", list(range(-10,1)))\n",
    "#c\n",
    "print(\"\", list(range(0,21,2)))\n",
    "#d\n",
    "print(\"\", list(range(-19,1,2)))\n",
    "#e\n",
    "print(\"\", list(range(0,50,5)))"
   ]
  },
  {
   "cell_type": "markdown",
   "id": "df802066",
   "metadata": {},
   "source": [
    "### 8) Dadas dos listas, se debe generar una tercera lista con todos los elementos que se repitan en ellas, pero no debe repetir ningún elemento en la nueva lista."
   ]
  },
  {
   "cell_type": "code",
   "execution_count": 55,
   "id": "d1c411cd",
   "metadata": {},
   "outputs": [
    {
     "name": "stdout",
     "output_type": "stream",
     "text": [
      "['i', '', 'a', 'm', 'g', 'o']\n"
     ]
    }
   ],
   "source": [
    "lista_1 = [\"M\",\"i\",\"\",\"a\",\"m\",\"i\",\"g\",\"o\",\"\",\"6\",\"a\",\"l\",\"i\",\"l\",\"e\",\"o\"]\n",
    "lista_2 = [\"T\",\"u\",\"\",\"a\",\"m\",\"i\",\"g\",\"u\",\"i\",\"t\",\"o\"]\n",
    "\n",
    "lista_3=[]\n",
    "for letra in lista_1:\n",
    "    if letra in lista_2 and letra not in lista_3:\n",
    "        lista_3.append(letra)\n",
    "print(lista_3)"
   ]
  },
  {
   "cell_type": "code",
   "execution_count": null,
   "id": "92fae4b1",
   "metadata": {},
   "outputs": [],
   "source": []
  }
 ],
 "metadata": {
  "kernelspec": {
   "display_name": "Python 3 (ipykernel)",
   "language": "python",
   "name": "python3"
  },
  "language_info": {
   "codemirror_mode": {
    "name": "ipython",
    "version": 3
   },
   "file_extension": ".py",
   "mimetype": "text/x-python",
   "name": "python",
   "nbconvert_exporter": "python",
   "pygments_lexer": "ipython3",
   "version": "3.9.12"
  }
 },
 "nbformat": 4,
 "nbformat_minor": 5
}
