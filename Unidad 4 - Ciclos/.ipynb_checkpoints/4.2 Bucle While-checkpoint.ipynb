{
 "cells": [
  {
   "cell_type": "markdown",
   "id": "5319a9ac",
   "metadata": {},
   "source": [
    "# 4.2 Bucle _While_\n",
    "\n",
    "### Un bucle es una secuencia que se ejecuta reiteradas veces una acción hasta que la condición asignada al bucle deja de cumplirse. Cada nueva ejecución de la secuencia se denomina iteración.\n",
    "\n",
    "### La secuencia While (Mientras) repite las operaciones de un bloque mientras la condición lógica que evalúa es _True_ (Verdadera).\n",
    "\n",
    "### El programador debe planificar un momento en que la condición _False_ y el bucle se detiene. De otra forma se vuelve un bucle infinito."
   ]
  },
  {
   "cell_type": "code",
   "execution_count": 1,
   "id": "10b4e67d",
   "metadata": {},
   "outputs": [
    {
     "name": "stdout",
     "output_type": "stream",
     "text": [
      "Contador vale  1\n",
      "Contador vale  2\n",
      "Contador vale  3\n",
      "Contador vale  4\n",
      "Contador vale  5\n",
      "Contador vale  6\n"
     ]
    }
   ],
   "source": [
    "contador= 0\n",
    "\n",
    "while contador<=5:\n",
    "    contador +=1\n",
    "    print(\"Contador vale \", contador)"
   ]
  },
  {
   "cell_type": "code",
   "execution_count": 2,
   "id": "1c0e25fe",
   "metadata": {},
   "outputs": [
    {
     "name": "stdout",
     "output_type": "stream",
     "text": [
      "Contador vale  1\n",
      "Contador vale  2\n",
      "Contador vale  3\n",
      "Contador vale  4\n",
      "Contador vale  5\n",
      "Contador vale  6\n"
     ]
    }
   ],
   "source": [
    "contador= 0\n",
    "\n",
    "while contador<=5:\n",
    "    contador = contador +1\n",
    "    print(\"Contador vale \", contador)"
   ]
  },
  {
   "cell_type": "code",
   "execution_count": 3,
   "id": "42d07b7e",
   "metadata": {},
   "outputs": [
    {
     "name": "stdout",
     "output_type": "stream",
     "text": [
      "Contador vale  0\n",
      "Contador vale  1\n",
      "Contador vale  2\n",
      "Contador vale  3\n",
      "Contador vale  4\n",
      "Contador vale  5\n",
      "Se realizaron 6 iteraciones\n"
     ]
    }
   ],
   "source": [
    "c=0\n",
    "while c<=5:\n",
    "    print(\"Contador vale \", c)\n",
    "    c += 1\n",
    "else:\n",
    "    print(\"Se realizaron {} iteraciones\".format(c))"
   ]
  },
  {
   "cell_type": "markdown",
   "id": "b428dc4b",
   "metadata": {},
   "source": [
    "# Break\n",
    "\n",
    "### Con este comando detenemos el bucle en cualquier momento"
   ]
  },
  {
   "cell_type": "code",
   "execution_count": 4,
   "id": "10e2a163",
   "metadata": {},
   "outputs": [
    {
     "name": "stdout",
     "output_type": "stream",
     "text": [
      "Contador vale  1\n",
      "Contador vale  2\n",
      "Contador vale  3\n",
      "Rompemos el bucle cuando el contador vale  4\n"
     ]
    }
   ],
   "source": [
    "contador_1= 0\n",
    "\n",
    "while contador_1 <=5:\n",
    "    contador_1 +=1\n",
    "    if contador_1 ==4:\n",
    "        print(\"Rompemos el bucle cuando el contador vale \", contador_1)\n",
    "        break\n",
    "    print(\"Contador vale \", contador_1)\n",
    "else:\n",
    "        print(\"Se realizaron {} iteraciones\".format(contador_1))        "
   ]
  },
  {
   "cell_type": "markdown",
   "id": "48b8f5d5",
   "metadata": {},
   "source": [
    "# Continue\n",
    "\n",
    "### Con este comando saltamos a la siguiente iteración sin romper el bucle"
   ]
  },
  {
   "cell_type": "code",
   "execution_count": 5,
   "id": "670d63cd",
   "metadata": {},
   "outputs": [
    {
     "name": "stdout",
     "output_type": "stream",
     "text": [
      "Ya que C vale 4 Saltamos esta iteración \n",
      " continuamos con la siguiente\n"
     ]
    }
   ],
   "source": [
    "c=0\n",
    "\n",
    "while c <=5:\n",
    "    c += 1\n",
    "    if c == 4:\n",
    "        print(\"Ya que C vale {} Saltamos esta iteración \\n continuamos con la siguiente\".format(c))\n",
    "        continue\n",
    "        print(\"Se realizaron {} iteraciones\".format(c))"
   ]
  },
  {
   "cell_type": "code",
   "execution_count": null,
   "id": "94d5a03d",
   "metadata": {},
   "outputs": [],
   "source": [
    "# Menú de usuario\n",
    "print(\"¡Bienvenido!\")\n",
    "\n",
    "while(True):\n",
    "    opcion = input(\"\"\"¿Qué quieres hacer? Ingresa una opción\n",
    "    (1) Saludar\n",
    "    (2) Sumar dos números\n",
    "    (3) Salir \\n\"\"\")\n",
    "    if opcion == '1':\n",
    "        print(\"\\n Barrabas le manda muchos saludos! \\n\")\n",
    "    elif opcion == '2':\n",
    "        n_1 = float(input(\"Ingresa el primer número: \\n\"))\n",
    "        n_2 = float(input(\"Ingresa el segundo número: \\n\"))\n",
    "        print(\"\\n El resultado de la suma es {}\".format(n_1+n_2))\n",
    "    elif opcion == '3':\n",
    "        print(\"\\n Dios me lo bendiga, licenciado\")\n",
    "        break\n",
    "    else:\n",
    "        print(\"\\n No hay manera, socio. Intenta de nuevo\")"
   ]
  }
 ],
 "metadata": {
  "kernelspec": {
   "display_name": "Python 3 (ipykernel)",
   "language": "python",
   "name": "python3"
  },
  "language_info": {
   "codemirror_mode": {
    "name": "ipython",
    "version": 3
   },
   "file_extension": ".py",
   "mimetype": "text/x-python",
   "name": "python",
   "nbconvert_exporter": "python",
   "pygments_lexer": "ipython3",
   "version": "3.9.12"
  }
 },
 "nbformat": 4,
 "nbformat_minor": 5
}
