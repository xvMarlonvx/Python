{
 "cells": [
  {
   "cell_type": "markdown",
   "id": "6513f185",
   "metadata": {},
   "source": [
    "# 4.1 If / Else / Elif: Sentencias condicionales\n",
    "\n",
    "### En Python existen las sentencias condicionales _if, else, elif (else if)_ que nos permiten dividir el flujo de un programa en diferentes caminos.\n",
    "\n",
    "### Para hacer esto definimos un bloque de instrucciones que se ejecutarán solo si la condición previa se cumple (es verdadera)"
   ]
  },
  {
   "cell_type": "code",
   "execution_count": 1,
   "id": "ce7ba847",
   "metadata": {},
   "outputs": [
    {
     "name": "stdout",
     "output_type": "stream",
     "text": [
      "Hey\n"
     ]
    }
   ],
   "source": [
    "if (True):\n",
    "    print(\"Hey\")"
   ]
  },
  {
   "cell_type": "code",
   "execution_count": 7,
   "id": "b68dcec7",
   "metadata": {},
   "outputs": [],
   "source": [
    "if (False):\n",
    "    print(\"Hey\")"
   ]
  },
  {
   "cell_type": "code",
   "execution_count": 2,
   "id": "866cf617",
   "metadata": {},
   "outputs": [
    {
     "name": "stdout",
     "output_type": "stream",
     "text": [
      "x e igual a 6\n"
     ]
    }
   ],
   "source": [
    "x= 6\n",
    "if x ==6:\n",
    "    print(\"x e igual a 6\")"
   ]
  },
  {
   "cell_type": "code",
   "execution_count": 4,
   "id": "a6781349",
   "metadata": {},
   "outputs": [
    {
     "name": "stdout",
     "output_type": "stream",
     "text": [
      "x vale 6\n"
     ]
    }
   ],
   "source": [
    "if x == 2:\n",
    "    print(\"x vale 2\")\n",
    "if x == 6:\n",
    "    print(\"x vale 6\")"
   ]
  },
  {
   "cell_type": "markdown",
   "id": "4bdd1dd0",
   "metadata": {},
   "source": [
    "### Podemos escribir varios If anidados respetando la identidad"
   ]
  },
  {
   "cell_type": "code",
   "execution_count": 14,
   "id": "747e153b",
   "metadata": {},
   "outputs": [
    {
     "name": "stdout",
     "output_type": "stream",
     "text": [
      "A vale 10\n",
      "B vale 5\n"
     ]
    }
   ],
   "source": [
    "a= 10\n",
    "b= 5\n",
    "if a == 10:\n",
    "    print(\"A vale {}\".format(a))\n",
    "    if b == 5:\n",
    "        print(\"B vale {}\".format(b))"
   ]
  },
  {
   "cell_type": "code",
   "execution_count": 16,
   "id": "47f3190a",
   "metadata": {},
   "outputs": [
    {
     "name": "stdout",
     "output_type": "stream",
     "text": [
      "A vale 10, y b vale 5\n"
     ]
    }
   ],
   "source": [
    "if a==10 and b==5:\n",
    "    print(\"A vale {}, y B vale {}\".format(10,5))"
   ]
  },
  {
   "cell_type": "markdown",
   "id": "d9790db8",
   "metadata": {},
   "source": [
    "### También podemos incluir en estas sentencias operadores lógicos para aumentar su eficiencia y legibilidad."
   ]
  },
  {
   "cell_type": "markdown",
   "id": "1c73318d",
   "metadata": {},
   "source": [
    "## _Else y Elif_\n",
    "\n",
    "#### _Else_ (si no) se encadena al final del bloque para abrir una nueva lista de instrucciones.\n",
    "\n",
    "#### Este comando nos permite definir el camino que se ejecuta si la condición original no se cumple.\n",
    "\n",
    "#### _Elif_ (si no, si) establece una nueva condición que se encadena a otro _If o elif_ cuya condición resultó _False_ (no se cumplió).\n",
    "\n",
    "#### Esto nos permite establecer múltiples condiciones para lidiar con los múltiples posibles entradas que el programa puede recibir."
   ]
  },
  {
   "cell_type": "code",
   "execution_count": 17,
   "id": "8c798845",
   "metadata": {},
   "outputs": [
    {
     "name": "stdout",
     "output_type": "stream",
     "text": [
      "12 es un número par\n"
     ]
    }
   ],
   "source": [
    "z = 12\n",
    "if z%2 == 0:\n",
    "    print(z, \"es un número par\")\n",
    "else:\n",
    "    print(z, \"es un número impar\")"
   ]
  },
  {
   "cell_type": "code",
   "execution_count": 21,
   "id": "cf0ce3a2",
   "metadata": {},
   "outputs": [
    {
     "name": "stdout",
     "output_type": "stream",
     "text": [
      "¿Qué desea hacer?\n",
      "  D\n",
      "Ingrese una entrada válida entre \"SALUDAR\" Y \"RETIRARSE\"\n"
     ]
    }
   ],
   "source": [
    "# Respuestas dinámicas\n",
    "texto = input(\"¿Qué desea hacer?\\n  \")\n",
    "if texto == \"SALUDAR\":\n",
    "    print(\"Muy buenas noches\")\n",
    "elif texto == \"RETIRARSE\":\n",
    "    print(\"Ok. Nos vemos luego\")\n",
    "else:\n",
    "    print('Ingrese una entrada válida entre \"SALUDAR\" Y \"RETIRARSE\"')"
   ]
  },
  {
   "cell_type": "code",
   "execution_count": 27,
   "id": "668e5512",
   "metadata": {},
   "outputs": [
    {
     "name": "stdout",
     "output_type": "stream",
     "text": [
      "Introduce la calificación: \n",
      "8\n",
      "Buen desempeño\n"
     ]
    }
   ],
   "source": [
    "# Clasificador\n",
    "puntaje = float(input(\"Introduce la calificación: \\n\"))\n",
    "if puntaje >=9:\n",
    "    print(\"Excelente desempeño\")\n",
    "elif puntaje >= 7:\n",
    "    print(\"Buen desempeño\")\n",
    "else:\n",
    "    print(\"Reportado\")"
   ]
  },
  {
   "cell_type": "code",
   "execution_count": null,
   "id": "125270bd",
   "metadata": {},
   "outputs": [],
   "source": []
  },
  {
   "cell_type": "code",
   "execution_count": null,
   "id": "9c5e473a",
   "metadata": {},
   "outputs": [],
   "source": []
  }
 ],
 "metadata": {
  "kernelspec": {
   "display_name": "Python 3 (ipykernel)",
   "language": "python",
   "name": "python3"
  },
  "language_info": {
   "codemirror_mode": {
    "name": "ipython",
    "version": 3
   },
   "file_extension": ".py",
   "mimetype": "text/x-python",
   "name": "python",
   "nbconvert_exporter": "python",
   "pygments_lexer": "ipython3",
   "version": "3.9.12"
  }
 },
 "nbformat": 4,
 "nbformat_minor": 5
}
