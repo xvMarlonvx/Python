{
 "cells": [
  {
   "cell_type": "markdown",
   "id": "e088485d",
   "metadata": {},
   "source": [
    "# 3.1 Índices y slicing"
   ]
  },
  {
   "cell_type": "markdown",
   "id": "b435b9f2",
   "metadata": {},
   "source": [
    "Los índices son números ordenadoos asociados a las variables que nos permiten identificar los elementos por su posición.\n",
    "\n",
    "Por ejempli, cada elemento de una cadena tiene su índice."
   ]
  },
  {
   "cell_type": "code",
   "execution_count": 3,
   "id": "f963fcb6",
   "metadata": {},
   "outputs": [],
   "source": [
    "texto= \"Esta-cadena\""
   ]
  },
  {
   "cell_type": "markdown",
   "id": "70dffda9",
   "metadata": {},
   "source": [
    "El primer el emento siempre tiene el índice 0 porque con este número inicia la numeración"
   ]
  },
  {
   "cell_type": "code",
   "execution_count": 4,
   "id": "4e35928b",
   "metadata": {},
   "outputs": [
    {
     "name": "stdout",
     "output_type": "stream",
     "text": [
      "E s t a\n"
     ]
    }
   ],
   "source": [
    "print (texto[0], texto[1], texto[2], texto[3])"
   ]
  },
  {
   "cell_type": "markdown",
   "id": "5b9368ff",
   "metadata": {},
   "source": [
    "También a causa de esto , índice del último elemento se diferencia del número total de elementos por unidad\n",
    "_texto[0], texto[1], texto[2], texto[3] ..., texto[n-1]_"
   ]
  },
  {
   "cell_type": "code",
   "execution_count": 6,
   "id": "cd0b10b3",
   "metadata": {},
   "outputs": [
    {
     "name": "stdout",
     "output_type": "stream",
     "text": [
      "- c a d e n a\n"
     ]
    }
   ],
   "source": [
    "print (texto[4], texto[5], texto[6], texto[7], texto[8], texto[9], texto[10])"
   ]
  },
  {
   "cell_type": "markdown",
   "id": "22368c64",
   "metadata": {},
   "source": [
    "Para cada elemento también existe un índice inverso que realiza la enumeración desde el último elemento hasta el primero, empezado la cuenta con -1."
   ]
  },
  {
   "cell_type": "code",
   "execution_count": 7,
   "id": "eb324e36",
   "metadata": {},
   "outputs": [
    {
     "name": "stdout",
     "output_type": "stream",
     "text": [
      "c a d e n a\n"
     ]
    }
   ],
   "source": [
    "# -6 / -5 / -4 / -3 / -2 / -1\n",
    "#  C    A    D    E   N     A\n",
    "#  5    6    7    8   9    10\n",
    "\n",
    "print(texto[-6], texto[-5], texto[-4], texto[-3], texto[-2], texto[-1])"
   ]
  },
  {
   "cell_type": "markdown",
   "id": "652284df",
   "metadata": {},
   "source": [
    "# Slicing"
   ]
  },
  {
   "cell_type": "markdown",
   "id": "27fdac27",
   "metadata": {},
   "source": [
    "Gracias a los índices podemos seleccionar una secuencia de elementos de una variable. Esto se conoce como slicing.\n",
    "\n",
    "La secuencia de elementos la definimos con el formato [a:b]. Esto es un rango de valores, y el slicing va a devovlernos desde el elemnto \"a\" hasta el elemento previo a \"b\", asó que vamos a decir que \"b\" está ixcluido del rango.\n",
    "\n",
    "PROTIP: Cuando un rango de valores excluye alguno de sus límites (Siendo \"a\" el límite inferir, y \"b\" el límite superior), se dice que el rango es abierto:\n",
    "---> Abierto por la dereca, si excluye a \"b\"\n",
    "---> Abierto por la izquierda si excluye a \"a\""
   ]
  },
  {
   "cell_type": "code",
   "execution_count": 10,
   "id": "6846c33c",
   "metadata": {},
   "outputs": [
    {
     "data": {
      "text/plain": [
       "'Est'"
      ]
     },
     "execution_count": 10,
     "metadata": {},
     "output_type": "execute_result"
    }
   ],
   "source": [
    "texto[0:3]"
   ]
  },
  {
   "cell_type": "code",
   "execution_count": 18,
   "id": "0a13e286",
   "metadata": {},
   "outputs": [
    {
     "name": "stdout",
     "output_type": "stream",
     "text": [
      "Esta-cadena\n",
      "adena\n",
      "Esta-cadena\n"
     ]
    }
   ],
   "source": [
    "print(texto[0::])\n",
    "print(texto[6::])\n",
    "print(texto[::])"
   ]
  },
  {
   "cell_type": "code",
   "execution_count": 12,
   "id": "0991f23a",
   "metadata": {},
   "outputs": [
    {
     "data": {
      "text/plain": [
       "'caden'"
      ]
     },
     "execution_count": 12,
     "metadata": {},
     "output_type": "execute_result"
    }
   ],
   "source": [
    "texto[-6:10]"
   ]
  },
  {
   "cell_type": "code",
   "execution_count": null,
   "id": "530cbe66",
   "metadata": {},
   "outputs": [],
   "source": []
  }
 ],
 "metadata": {
  "kernelspec": {
   "display_name": "Python 3 (ipykernel)",
   "language": "python",
   "name": "python3"
  },
  "language_info": {
   "codemirror_mode": {
    "name": "ipython",
    "version": 3
   },
   "file_extension": ".py",
   "mimetype": "text/x-python",
   "name": "python",
   "nbconvert_exporter": "python",
   "pygments_lexer": "ipython3",
   "version": "3.9.12"
  }
 },
 "nbformat": 4,
 "nbformat_minor": 5
}
