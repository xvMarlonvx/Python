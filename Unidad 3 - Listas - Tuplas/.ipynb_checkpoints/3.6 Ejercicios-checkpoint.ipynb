{
 "cells": [
  {
   "cell_type": "markdown",
   "id": "1a27d972",
   "metadata": {},
   "source": [
    "### 1) ¿Puedes identificar el error en el siguiente código?\n",
    "\n",
    "    media = num_1 + num_2 + num_3/3\n",
    " ### Se pretende hacer una media muestra de 3 elementos pero no funciona correctamente"
   ]
  },
  {
   "cell_type": "code",
   "execution_count": 2,
   "id": "c1afcf68",
   "metadata": {},
   "outputs": [
    {
     "name": "stdout",
     "output_type": "stream",
     "text": [
      "Escribar el primer número: 4\n",
      "Escribar el segundo número: 3\n",
      "Escribar el tercer número: 3\n",
      "El promedio es:  8.0\n"
     ]
    }
   ],
   "source": [
    "num_1=float(input(\"Escribar el primer número: \"))\n",
    "num_2=float(input(\"Escribar el segundo número: \"))\n",
    "num_3=float(input(\"Escribar el tercer número: \"))\n",
    "\n",
    "media = num_1 + num_2 + num_3/3\n",
    "\n",
    "print(\"El promedio es: \", media)"
   ]
  },
  {
   "cell_type": "code",
   "execution_count": 4,
   "id": "82961db7",
   "metadata": {},
   "outputs": [
    {
     "name": "stdout",
     "output_type": "stream",
     "text": [
      "El promedio es:  3.3333333333333335\n"
     ]
    }
   ],
   "source": [
    "# El error está en que en la fórmula anterior es el num_3 el único elemento que se está dividiendo entre 3\n",
    "media = (num_1 + num_2 + num_3)/3\n",
    "\n",
    "print(\"El promedio es: \", media)"
   ]
  },
  {
   "cell_type": "markdown",
   "id": "e0798a35",
   "metadata": {},
   "source": [
    "### En la siguiente matriz, el cuarto elemento siempre es la suma de los tres anteriores. Utilizando la indexación corrige las listas que no cumplen esta condición."
   ]
  },
  {
   "cell_type": "code",
   "execution_count": 6,
   "id": "2a3d56f2",
   "metadata": {},
   "outputs": [
    {
     "data": {
      "text/plain": [
       "[[1, 1, 1, 3], [2, 2, 2, 7], [3, 3, 3, 9], [4, 4, 4, 13]]"
      ]
     },
     "execution_count": 6,
     "metadata": {},
     "output_type": "execute_result"
    }
   ],
   "source": [
    "matriz= [\n",
    "    [1,1,1,3],\n",
    "    [2,2,2,7],\n",
    "    [3,3,3,9],\n",
    "    [4,4,4,13]    \n",
    "];\n",
    "\n",
    "matriz"
   ]
  },
  {
   "cell_type": "code",
   "execution_count": 9,
   "id": "5427e925",
   "metadata": {},
   "outputs": [
    {
     "data": {
      "text/plain": [
       "[[1, 1, 1, 3], [2, 2, 2, 6], [3, 3, 3, 9], [4, 4, 4, 12]]"
      ]
     },
     "execution_count": 9,
     "metadata": {},
     "output_type": "execute_result"
    }
   ],
   "source": [
    "# Solución\n",
    "# Modificamos la primera fila\n",
    "matriz[1][-1]= sum(matriz[1][:-1])\n",
    "# Modificamos la cuarta fila\n",
    "matriz[3][-1]= sum(matriz[3][:-1])\n",
    "#Imprimimos\n",
    "matriz"
   ]
  },
  {
   "cell_type": "markdown",
   "id": "61ec5cee",
   "metadata": {},
   "source": [
    "### 3) En el desarrollo de un videojuego se te encarga configurar y balancear cada clase de personaje. Partiendo de que la estadística base es 2, debes cumplir las siguientes condiciones:\n",
    "\n",
    "* El caballero tiene el doble de vida y defensa que un guerrero.\n",
    "* El guerrero tiene el doble de ataque y alcance que un caballero.\n",
    "* El arquero tiene la misma vida y ataque que un guerrero, pero la mitad de su defensa y el doble de alcance.\n",
    "* Muestra como quedan las propiedades de los tres personajes.\n",
    "\n",
    "caballero= {'vida':2, 'ataque':2, 'defensa':2, 'alcance':2}\n",
    "guerrero= {'vida':2, 'ataque':2, 'defensa':2, 'alcance':2}\n",
    "arquero= {'vida':2, 'ataque':2, 'defensa':2, 'alcance':2}"
   ]
  },
  {
   "cell_type": "code",
   "execution_count": 4,
   "id": "67a8aa2f",
   "metadata": {},
   "outputs": [
    {
     "name": "stdout",
     "output_type": "stream",
     "text": [
      "{'vida': 2, 'ataque': 2, 'defensa': 2, 'alcance': 2}\n",
      "{'vida': 2, 'ataque': 2, 'defensa': 2, 'alcance': 2}\n",
      "{'vida': 2, 'ataque': 2, 'defensa': 2, 'alcance': 2}\n"
     ]
    }
   ],
   "source": [
    "# Creamos el diccionario\n",
    "caballero= {'vida':2, 'ataque':2, 'defensa':2, 'alcance':2}\n",
    "print(caballero)\n",
    "guerrero= {'vida':2, 'ataque':2, 'defensa':2, 'alcance':2}\n",
    "print(guerrero)\n",
    "arquero= {'vida':2, 'ataque':2, 'defensa':2, 'alcance':2}\n",
    "print(arquero)"
   ]
  },
  {
   "cell_type": "code",
   "execution_count": 60,
   "id": "32b91e12",
   "metadata": {},
   "outputs": [
    {
     "data": {
      "text/plain": [
       "{'vida': 4, 'ataque': 2, 'defensa': 4, 'alcance': 2}"
      ]
     },
     "execution_count": 60,
     "metadata": {},
     "output_type": "execute_result"
    }
   ],
   "source": [
    "# Conversión para el Caballero\n",
    "caballero['vida']=2*guerrero['vida']\n",
    "caballero['defensa']=2*guerrero['defensa']\n",
    "caballero"
   ]
  },
  {
   "cell_type": "code",
   "execution_count": 20,
   "id": "681174bd",
   "metadata": {},
   "outputs": [
    {
     "data": {
      "text/plain": [
       "{'vida': 2, 'ataque': 4, 'defensa': 2, 'alcance': 4}"
      ]
     },
     "execution_count": 20,
     "metadata": {},
     "output_type": "execute_result"
    }
   ],
   "source": [
    "# Conversión para el Guerrero\n",
    "guerrero['ataque']=2*caballero['ataque']\n",
    "guerrero['alcance']=2*caballero['alcance']\n",
    "guerrero"
   ]
  },
  {
   "cell_type": "code",
   "execution_count": 21,
   "id": "520b4245",
   "metadata": {},
   "outputs": [
    {
     "data": {
      "text/plain": [
       "{'vida': 4, 'ataque': 8, 'defensa': 1.0, 'alcance': 8}"
      ]
     },
     "execution_count": 21,
     "metadata": {},
     "output_type": "execute_result"
    }
   ],
   "source": [
    "#Conversión para el arquero\n",
    "arquero['ataque']=2*guerrero['ataque']\n",
    "arquero['vida']=2*guerrero['vida']\n",
    "arquero['defensa']=guerrero['defensa']/2\n",
    "arquero['alcance']=2*guerrero['alcance']\n",
    "arquero"
   ]
  },
  {
   "cell_type": "code",
   "execution_count": 62,
   "id": "34c8d80b",
   "metadata": {},
   "outputs": [
    {
     "name": "stdout",
     "output_type": "stream",
     "text": [
      "['vida', 'ataque', 'defensa', 'alcance']\n",
      "['vida', 'ataque', 'defensa', 'alcance']\n",
      "['vida', 'ataque', 'defensa', 'alcance']\n"
     ]
    }
   ],
   "source": [
    "# Conversión a listas de los personajes\n",
    "caballero_l=list(caballero)\n",
    "print(caballero_l)\n",
    "guerrero_l=list(guerrero)\n",
    "print(guerrero_l)\n",
    "arquero_l=list(arquero)\n",
    "print(arquero_l)"
   ]
  },
  {
   "cell_type": "code",
   "execution_count": 59,
   "id": "589e8dd1",
   "metadata": {},
   "outputs": [
    {
     "data": {
      "text/plain": [
       "({'vida': 4, 'ataque': 2, 'defensa': 4, 'alcance': 2},\n",
       " {'vida': 4, 'ataque': 8, 'defensa': 1.0, 'alcance': 8},\n",
       " {'vida': 2, 'ataque': 4, 'defensa': 2, 'alcance': 4})"
      ]
     },
     "execution_count": 59,
     "metadata": {},
     "output_type": "execute_result"
    }
   ],
   "source": [
    "#Visualización en formato diccionario\n",
    "caballero, arquero, guerrero"
   ]
  },
  {
   "cell_type": "code",
   "execution_count": 56,
   "id": "43507bad",
   "metadata": {},
   "outputs": [
    {
     "name": "stdout",
     "output_type": "stream",
     "text": [
      "El caballero tiene una de vida de 4, ataque de 2, defensa de 4, alcance de 2\n",
      "El arquero tiene una de vida de 4, ataque de 8, defensa de 1.0, alcance de 8\n",
      "El guerrero tiene una de vida de 2, ataque de 4, defensa de 2, alcance de 4\n"
     ]
    }
   ],
   "source": [
    "# Visualización combinando Diccionario y Listas con textos\n",
    "print(f\"\"\"El caballero tiene una de {caballero_l[0]} de {caballero['vida']}, {caballero_l[1]} de {caballero['ataque']}, {caballero_l[2]} de {caballero['defensa']}, {caballero_l[3]} de {caballero['alcance']}\"\"\")\n",
    "print(f\"\"\"El arquero tiene una de {arquero_l[0]} de {arquero['vida']}, {arquero_l[1]} de {arquero['ataque']}, {arquero_l[2]} de {arquero['defensa']}, {arquero_l[3]} de {arquero['alcance']}\"\"\")\n",
    "print(f\"\"\"El guerrero tiene una de {guerrero_l[0]} de {guerrero['vida']}, {guerrero_l[1]} de {guerrero['ataque']}, {guerrero_l[2]} de {guerrero['defensa']}, {guerrero_l[3]} de {guerrero['alcance']}\"\"\")"
   ]
  }
 ],
 "metadata": {
  "kernelspec": {
   "display_name": "Python 3 (ipykernel)",
   "language": "python",
   "name": "python3"
  },
  "language_info": {
   "codemirror_mode": {
    "name": "ipython",
    "version": 3
   },
   "file_extension": ".py",
   "mimetype": "text/x-python",
   "name": "python",
   "nbconvert_exporter": "python",
   "pygments_lexer": "ipython3",
   "version": "3.9.12"
  }
 },
 "nbformat": 4,
 "nbformat_minor": 5
}
