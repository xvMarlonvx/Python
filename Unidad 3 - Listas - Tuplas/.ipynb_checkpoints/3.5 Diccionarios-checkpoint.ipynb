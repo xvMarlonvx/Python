{
 "cells": [
  {
   "cell_type": "markdown",
   "id": "32553d56",
   "metadata": {},
   "source": [
    "# 3.5 Diccionarios\n",
    "\n",
    "Son colecciones de datos semejantes a las listas.\n",
    "\n",
    "Los diccionarios se caracterizan por:\n",
    "* Se define cada elemento dentro de un diccionario con una relación entre _Clave : Valor_\n",
    "* Las claves ejecen como índice de cada elementos (No son únicamente números)"
   ]
  },
  {
   "cell_type": "code",
   "execution_count": 1,
   "id": "b595f672",
   "metadata": {},
   "outputs": [],
   "source": [
    "colores= {'azul' : 'blue', 'negro' : 'black', 'rosado' : 'pink'}\n",
    "propiedades= {1:'Nombre', 2:'Apellido',3:'Profesión',4:'Región'}"
   ]
  },
  {
   "cell_type": "code",
   "execution_count": 2,
   "id": "fd2ec2cb",
   "metadata": {},
   "outputs": [
    {
     "name": "stdout",
     "output_type": "stream",
     "text": [
      "{1: 'Nombre', 2: 'Apellido', 3: 'Profesión', 4: 'Región'}\n"
     ]
    }
   ],
   "source": [
    "print(propiedades)"
   ]
  },
  {
   "cell_type": "markdown",
   "id": "581346d7",
   "metadata": {},
   "source": [
    "Podemos escoger entre sus elementos utilziando las claves"
   ]
  },
  {
   "cell_type": "code",
   "execution_count": 3,
   "id": "89a96798",
   "metadata": {},
   "outputs": [
    {
     "data": {
      "text/plain": [
       "{'azul': 'blue', 'negro': 'black', 'rosado': 'pink'}"
      ]
     },
     "execution_count": 3,
     "metadata": {},
     "output_type": "execute_result"
    }
   ],
   "source": [
    "colores"
   ]
  },
  {
   "cell_type": "code",
   "execution_count": 5,
   "id": "9a653a3f",
   "metadata": {},
   "outputs": [
    {
     "data": {
      "text/plain": [
       "'blue'"
      ]
     },
     "execution_count": 5,
     "metadata": {},
     "output_type": "execute_result"
    }
   ],
   "source": [
    "colores['azul']"
   ]
  },
  {
   "cell_type": "code",
   "execution_count": 6,
   "id": "16a167ce",
   "metadata": {},
   "outputs": [
    {
     "data": {
      "text/plain": [
       "'black'"
      ]
     },
     "execution_count": 6,
     "metadata": {},
     "output_type": "execute_result"
    }
   ],
   "source": [
    "colores['negro']"
   ]
  },
  {
   "cell_type": "markdown",
   "id": "21ec819e",
   "metadata": {},
   "source": [
    "También podemos modificar los valores de sus elementos y realizar operaciones con ellos."
   ]
  },
  {
   "cell_type": "code",
   "execution_count": 8,
   "id": "a4e40271",
   "metadata": {},
   "outputs": [
    {
     "name": "stdout",
     "output_type": "stream",
     "text": [
      "{'azul': 'blue', 'negro': 'noir', 'rosado': 'pink'}\n"
     ]
    }
   ],
   "source": [
    "colores['negro']='noir'\n",
    "print(colores)"
   ]
  },
  {
   "cell_type": "code",
   "execution_count": 11,
   "id": "2a5b3378",
   "metadata": {},
   "outputs": [
    {
     "data": {
      "text/plain": [
       "{'azul': 'blue',\n",
       " 'negro': 'noir',\n",
       " 'rosado': 'pink',\n",
       " 'anaranjado': 'orange',\n",
       " 'blanco': 'white'}"
      ]
     },
     "execution_count": 11,
     "metadata": {},
     "output_type": "execute_result"
    }
   ],
   "source": [
    "colores['anaranjado']='orange'\n",
    "colores['blanco']='white'\n",
    "colores"
   ]
  },
  {
   "cell_type": "code",
   "execution_count": 12,
   "id": "7a86ccdd",
   "metadata": {},
   "outputs": [
    {
     "data": {
      "text/plain": [
       "26"
      ]
     },
     "execution_count": 12,
     "metadata": {},
     "output_type": "execute_result"
    }
   ],
   "source": [
    "edades={'Albeter':24,\n",
    "        'Johel':24,\n",
    "        'Roque':26,\n",
    "       'victor':27\n",
    "       }\n",
    "edades['Roque']"
   ]
  },
  {
   "cell_type": "code",
   "execution_count": 13,
   "id": "47ef9add",
   "metadata": {},
   "outputs": [
    {
     "data": {
      "text/plain": [
       "{'Albeter': 24, 'Johel': 25, 'Roque': 26, 'victor': 27}"
      ]
     },
     "execution_count": 13,
     "metadata": {},
     "output_type": "execute_result"
    }
   ],
   "source": [
    "edades['Johel']+=1;\n",
    "edades"
   ]
  },
  {
   "cell_type": "code",
   "execution_count": 18,
   "id": "b9333b64",
   "metadata": {},
   "outputs": [
    {
     "data": {
      "text/plain": [
       "{'Albeter': 24,\n",
       " 'Johel': 25,\n",
       " 'Roque': 26,\n",
       " 'victor': 27,\n",
       " 'Albert': 27,\n",
       " 'Giulia': 54}"
      ]
     },
     "execution_count": 18,
     "metadata": {},
     "output_type": "execute_result"
    }
   ],
   "source": [
    "edades['Albert']=edades['victor']\n",
    "edades"
   ]
  },
  {
   "cell_type": "code",
   "execution_count": 20,
   "id": "33b0152a",
   "metadata": {},
   "outputs": [
    {
     "data": {
      "text/plain": [
       "{'Albeter': 24,\n",
       " 'Johel': 25,\n",
       " 'Roque': 26,\n",
       " 'victor': 27,\n",
       " 'Albert': 27,\n",
       " 'Giulia': 54}"
      ]
     },
     "execution_count": 20,
     "metadata": {},
     "output_type": "execute_result"
    }
   ],
   "source": [
    "edades['Giulia']=edades['Albert'] + edades['victor']\n",
    "edades"
   ]
  },
  {
   "cell_type": "markdown",
   "id": "c9d16ec9",
   "metadata": {},
   "source": [
    "# Métodos\n",
    "\n",
    "A través de un bucle _For_ podemos recorres los elementos de un diccionario"
   ]
  },
  {
   "cell_type": "code",
   "execution_count": 21,
   "id": "6adf6be8",
   "metadata": {},
   "outputs": [
    {
     "name": "stdout",
     "output_type": "stream",
     "text": [
      "Albeter\n",
      "Johel\n",
      "Roque\n",
      "victor\n",
      "Albert\n",
      "Giulia\n"
     ]
    }
   ],
   "source": [
    "for c in edades:\n",
    "    print(c)"
   ]
  },
  {
   "cell_type": "code",
   "execution_count": 22,
   "id": "46d83697",
   "metadata": {},
   "outputs": [
    {
     "name": "stdout",
     "output_type": "stream",
     "text": [
      "24\n",
      "25\n",
      "26\n",
      "27\n",
      "27\n",
      "54\n"
     ]
    }
   ],
   "source": [
    "for c in edades:\n",
    "    print(edades[c])"
   ]
  },
  {
   "cell_type": "markdown",
   "id": "e1f4a8e6",
   "metadata": {},
   "source": [
    "El método _items()_ nos devuelve Clave y Valor automáticamente"
   ]
  },
  {
   "cell_type": "code",
   "execution_count": 26,
   "id": "c9e86b25",
   "metadata": {},
   "outputs": [
    {
     "name": "stdout",
     "output_type": "stream",
     "text": [
      "Albeter 24\n",
      "Johel 25\n",
      "Roque 26\n",
      "victor 27\n",
      "Albert 27\n",
      "Giulia 54\n"
     ]
    }
   ],
   "source": [
    "for clave,valor in edades.items():\n",
    "    print(clave,valor)"
   ]
  },
  {
   "cell_type": "markdown",
   "id": "c953fd4c",
   "metadata": {},
   "source": [
    "El método del() nos permite eliminar los valores de un diccionario."
   ]
  },
  {
   "cell_type": "code",
   "execution_count": 29,
   "id": "357e1f92",
   "metadata": {},
   "outputs": [
    {
     "name": "stdout",
     "output_type": "stream",
     "text": [
      "{'rosado': 'pink', 'anaranjado': 'orange', 'blanco': 'white'}\n"
     ]
    }
   ],
   "source": [
    "del(colores['negro'])\n",
    "\n",
    "print(colores)"
   ]
  },
  {
   "cell_type": "markdown",
   "id": "33b47de4",
   "metadata": {},
   "source": [
    "Debemos combinar provechosamente las listas y los diccionarios. Por ejemplo para crear un equipo de personajes."
   ]
  },
  {
   "cell_type": "code",
   "execution_count": 46,
   "id": "1d089f3b",
   "metadata": {},
   "outputs": [],
   "source": [
    "equipo= []\n",
    "\n",
    "personajes= {'Nombre':'RaskoInikov',\n",
    "            'Clase' : 'Picaro',\n",
    "            'Nación': 'Rusia'\n",
    "            }"
   ]
  },
  {
   "cell_type": "code",
   "execution_count": 47,
   "id": "1c7b9e89",
   "metadata": {},
   "outputs": [
    {
     "name": "stdout",
     "output_type": "stream",
     "text": [
      "[{'Nombre': 'RaskoInikov', 'Clase': 'Picaro', 'Nación': 'Rusia'}]\n"
     ]
    }
   ],
   "source": [
    "equipo.append(personajes)\n",
    "print(equipo)"
   ]
  },
  {
   "cell_type": "code",
   "execution_count": 48,
   "id": "79a4e2c9",
   "metadata": {},
   "outputs": [
    {
     "data": {
      "text/plain": [
       "[{'Nombre': 'RaskoInikov', 'Clase': 'Picaro', 'Nación': 'Rusia'},\n",
       " {'Nombre': 'Emma', 'Clase': 'Curandera', 'Nación': 'Francia'}]"
      ]
     },
     "execution_count": 48,
     "metadata": {},
     "output_type": "execute_result"
    }
   ],
   "source": [
    "personajes= {'Nombre':'Emma',\n",
    "            'Clase' : 'Curandera',\n",
    "            'Nación': 'Francia'\n",
    "            }\n",
    "equipo.append(personajes)\n",
    "equipo"
   ]
  },
  {
   "cell_type": "code",
   "execution_count": 49,
   "id": "96ebf796",
   "metadata": {},
   "outputs": [
    {
     "data": {
      "text/plain": [
       "[{'Nombre': 'RaskoInikov', 'Clase': 'Picaro', 'Nación': 'Rusia'},\n",
       " {'Nombre': 'Emma', 'Clase': 'Curandera', 'Nación': 'Francia'},\n",
       " {'Nombre': 'Rebeca', 'Clase': 'Banquera', 'Nación': 'Inglaterra'}]"
      ]
     },
     "execution_count": 49,
     "metadata": {},
     "output_type": "execute_result"
    }
   ],
   "source": [
    "personajes= {'Nombre':'Rebeca',\n",
    "            'Clase' : 'Banquera',\n",
    "            'Nación': 'Inglaterra'\n",
    "            }\n",
    "equipo.append(personajes)\n",
    "equipo"
   ]
  },
  {
   "cell_type": "code",
   "execution_count": 50,
   "id": "98065325",
   "metadata": {},
   "outputs": [
    {
     "name": "stdout",
     "output_type": "stream",
     "text": [
      "RaskoInikov , Picaro oriundo de  Rusia\n",
      "Emma , Curandera oriundo de  Francia\n",
      "Rebeca , Banquera oriundo de  Inglaterra\n"
     ]
    }
   ],
   "source": [
    "for e in equipo:\n",
    "    print(e[\"Nombre\"],\",\", e[\"Clase\"], \"oriundo de \",e[\"Nación\"])"
   ]
  }
 ],
 "metadata": {
  "kernelspec": {
   "display_name": "Python 3 (ipykernel)",
   "language": "python",
   "name": "python3"
  },
  "language_info": {
   "codemirror_mode": {
    "name": "ipython",
    "version": 3
   },
   "file_extension": ".py",
   "mimetype": "text/x-python",
   "name": "python",
   "nbconvert_exporter": "python",
   "pygments_lexer": "ipython3",
   "version": "3.9.12"
  }
 },
 "nbformat": 4,
 "nbformat_minor": 5
}
