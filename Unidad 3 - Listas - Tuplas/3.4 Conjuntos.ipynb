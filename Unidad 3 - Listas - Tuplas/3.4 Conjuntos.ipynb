{
 "cells": [
  {
   "cell_type": "markdown",
   "id": "b6886234",
   "metadata": {},
   "source": [
    "# 3.4 Conjuntos\n",
    "\n",
    "Los conjuntos son colecciones de datos que nos facilitan ciertas operaciones ya que solo contienen valores únicos.\n",
    "\n",
    "Se diferencian de las tuplas y listas en que:\n",
    "* Cada elemento dentro del conjunto es único.\n",
    "* Sus elementos no están ordenados."
   ]
  },
  {
   "cell_type": "code",
   "execution_count": 6,
   "id": "0e378790",
   "metadata": {},
   "outputs": [],
   "source": [
    "conjunto_vacio= set()\n",
    "conjunto={1, 2, 3}"
   ]
  },
  {
   "cell_type": "code",
   "execution_count": 7,
   "id": "f084883e",
   "metadata": {},
   "outputs": [
    {
     "name": "stdout",
     "output_type": "stream",
     "text": [
      "<class 'set'> {1, 2, 3}\n"
     ]
    }
   ],
   "source": [
    "print(type(conjunto_vacio), conjunto)"
   ]
  },
  {
   "cell_type": "markdown",
   "id": "1dd1abde",
   "metadata": {},
   "source": [
    "## Métodos"
   ]
  },
  {
   "cell_type": "markdown",
   "id": "dc7b54bb",
   "metadata": {},
   "source": [
    "El método add() nos permite agregar elementos al conjunto."
   ]
  },
  {
   "cell_type": "code",
   "execution_count": 8,
   "id": "825da93d",
   "metadata": {},
   "outputs": [
    {
     "data": {
      "text/plain": [
       "{1, 2, 3, 4, 5, 'A', 'C', 'P'}"
      ]
     },
     "execution_count": 8,
     "metadata": {},
     "output_type": "execute_result"
    }
   ],
   "source": [
    "conjunto.add(4)\n",
    "conjunto.add(5)\n",
    "conjunto.add(\"C\")\n",
    "conjunto.add(\"A\")\n",
    "conjunto.add(\"P\")\n",
    "conjunto #Devuelve los valores en el orden que primero consiga"
   ]
  },
  {
   "cell_type": "code",
   "execution_count": 10,
   "id": "2865cdac",
   "metadata": {},
   "outputs": [
    {
     "name": "stdout",
     "output_type": "stream",
     "text": [
      "{'C', 1, 2, 3, 4, 5, 'P', 'A'}\n"
     ]
    }
   ],
   "source": [
    "conjunto.add(\"C\")\n",
    "print(conjunto) #No agrega el ementos repetidos"
   ]
  },
  {
   "cell_type": "markdown",
   "id": "5cc36bee",
   "metadata": {},
   "source": [
    "Podeos utilizar conjuntos para verificar pertenencia"
   ]
  },
  {
   "cell_type": "code",
   "execution_count": 11,
   "id": "e3436740",
   "metadata": {},
   "outputs": [
    {
     "data": {
      "text/plain": [
       "True"
      ]
     },
     "execution_count": 11,
     "metadata": {},
     "output_type": "execute_result"
    }
   ],
   "source": [
    "grupo = {\"Luis\", \"Giulia\", \"Victor\", \"Aaron\", \"Johel\"}\n",
    "\"Victor\" in grupo"
   ]
  },
  {
   "cell_type": "code",
   "execution_count": 12,
   "id": "ecbc7f44",
   "metadata": {},
   "outputs": [
    {
     "data": {
      "text/plain": [
       "False"
      ]
     },
     "execution_count": 12,
     "metadata": {},
     "output_type": "execute_result"
    }
   ],
   "source": [
    "\"Johel\" not in grupo"
   ]
  },
  {
   "cell_type": "code",
   "execution_count": 14,
   "id": "2f75182d",
   "metadata": {},
   "outputs": [
    {
     "data": {
      "text/plain": [
       "True"
      ]
     },
     "execution_count": 14,
     "metadata": {},
     "output_type": "execute_result"
    }
   ],
   "source": [
    "4 not in grupo"
   ]
  },
  {
   "cell_type": "code",
   "execution_count": 15,
   "id": "ba9f5d4b",
   "metadata": {},
   "outputs": [
    {
     "data": {
      "text/plain": [
       "False"
      ]
     },
     "execution_count": 15,
     "metadata": {},
     "output_type": "execute_result"
    }
   ],
   "source": [
    "10 in grupo"
   ]
  },
  {
   "cell_type": "markdown",
   "id": "8a293630",
   "metadata": {},
   "source": [
    "Un conjunto elimina automáticamente los elementos duplciados"
   ]
  },
  {
   "cell_type": "code",
   "execution_count": 18,
   "id": "0a06b7bf",
   "metadata": {},
   "outputs": [
    {
     "data": {
      "text/plain": [
       "{'Ford', 'Toyota'}"
      ]
     },
     "execution_count": 18,
     "metadata": {},
     "output_type": "execute_result"
    }
   ],
   "source": [
    "grupo_carros= {\"Toyota\", \"Toyota\", \"Ford\"}\n",
    "grupo_carros"
   ]
  },
  {
   "cell_type": "markdown",
   "id": "2844b04a",
   "metadata": {},
   "source": [
    "Gracias a esta propiedad podemos convertir una lista a conjunto para eliminar duplicados facilmente."
   ]
  },
  {
   "cell_type": "code",
   "execution_count": 20,
   "id": "dfca63c7",
   "metadata": {},
   "outputs": [
    {
     "data": {
      "text/plain": [
       "{1, 2, 3, 4, 5, 6}"
      ]
     },
     "execution_count": 20,
     "metadata": {},
     "output_type": "execute_result"
    }
   ],
   "source": [
    "extra= {1,1,2,2,3,3,4,5,5,4,5,6}\n",
    "extra"
   ]
  },
  {
   "cell_type": "code",
   "execution_count": 22,
   "id": "26987696",
   "metadata": {},
   "outputs": [
    {
     "name": "stdout",
     "output_type": "stream",
     "text": [
      "{1, 2, 3, 4, 5, 6}\n"
     ]
    }
   ],
   "source": [
    "c= set(extra)\n",
    "print(c)"
   ]
  },
  {
   "cell_type": "code",
   "execution_count": 24,
   "id": "d199bf27",
   "metadata": {},
   "outputs": [
    {
     "name": "stdout",
     "output_type": "stream",
     "text": [
      "[1, 2, 3, 4, 5, 6]\n"
     ]
    }
   ],
   "source": [
    "sin_duplicados= list(c)\n",
    "print(sin_duplicados)"
   ]
  },
  {
   "cell_type": "markdown",
   "id": "3936b561",
   "metadata": {},
   "source": [
    "Podemos hacer la conversión en una sola línea"
   ]
  },
  {
   "cell_type": "code",
   "execution_count": 25,
   "id": "085d5890",
   "metadata": {},
   "outputs": [
    {
     "name": "stdout",
     "output_type": "stream",
     "text": [
      "[1, 2, 3, 4, 5, 6]\n"
     ]
    }
   ],
   "source": [
    "no_dupli=list(set(extra))\n",
    "print(no_dupli)"
   ]
  },
  {
   "cell_type": "markdown",
   "id": "ccb790ce",
   "metadata": {},
   "source": [
    "Podemos hacer la conversión de una sola línea"
   ]
  },
  {
   "cell_type": "code",
   "execution_count": 26,
   "id": "a412c727",
   "metadata": {},
   "outputs": [
    {
     "name": "stdout",
     "output_type": "stream",
     "text": [
      "[1, 2, 3, 4, 5, 6]\n"
     ]
    }
   ],
   "source": [
    "no_dupli= list(set(extra))\n",
    "print(no_dupli)"
   ]
  },
  {
   "cell_type": "markdown",
   "id": "4dfaf430",
   "metadata": {},
   "source": [
    "Cuando aplicamos la conversión de una cadena, el conjunto resultante incluye solo las letras únicas de esta"
   ]
  },
  {
   "cell_type": "code",
   "execution_count": 28,
   "id": "99f411fc",
   "metadata": {},
   "outputs": [
    {
     "data": {
      "text/plain": [
       "{' ',\n",
       " ',',\n",
       " '.',\n",
       " 'J',\n",
       " 'R',\n",
       " 'a',\n",
       " 'c',\n",
       " 'd',\n",
       " 'e',\n",
       " 'f',\n",
       " 'g',\n",
       " 'j',\n",
       " 'l',\n",
       " 'n',\n",
       " 'o',\n",
       " 'p',\n",
       " 'r',\n",
       " 't',\n",
       " 'ó'}"
      ]
     },
     "execution_count": 28,
     "metadata": {},
     "output_type": "execute_result"
    }
   ],
   "source": [
    "cadena = 'Jefe de jefe, patrón de patrón. Recógelo, recógelo'\n",
    "set(cadena) #Las letras mayúsculas y minúsculas son diferentes"
   ]
  },
  {
   "cell_type": "code",
   "execution_count": null,
   "id": "a12e5492",
   "metadata": {},
   "outputs": [],
   "source": []
  }
 ],
 "metadata": {
  "kernelspec": {
   "display_name": "Python 3 (ipykernel)",
   "language": "python",
   "name": "python3"
  },
  "language_info": {
   "codemirror_mode": {
    "name": "ipython",
    "version": 3
   },
   "file_extension": ".py",
   "mimetype": "text/x-python",
   "name": "python",
   "nbconvert_exporter": "python",
   "pygments_lexer": "ipython3",
   "version": "3.9.12"
  }
 },
 "nbformat": 4,
 "nbformat_minor": 5
}
