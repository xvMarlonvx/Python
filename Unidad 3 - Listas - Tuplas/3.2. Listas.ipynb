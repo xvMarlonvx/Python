{
 "cells": [
  {
   "cell_type": "markdown",
   "id": "a41ecc68",
   "metadata": {},
   "source": [
    "# Listas"
   ]
  },
  {
   "cell_type": "markdown",
   "id": "c483c9f9",
   "metadata": {},
   "source": [
    "Son un tipo de dato compuesto de varios elementos, estos pueden usar carácteres o números, utros tipos incluso. Cada elemento de las listas es accesible gracias a su índice."
   ]
  },
  {
   "cell_type": "code",
   "execution_count": 1,
   "id": "4f565d20",
   "metadata": {},
   "outputs": [],
   "source": [
    "lista_de_compras=[\"Huevos\", \"Leche\", \"Queso\", \"Jabón\"]\n",
    "lista_de_precios=[\"Huevos\", 1.5, \"Leche\", 2, \"Queso\", 3.5, \"Jabón\", 5]"
   ]
  },
  {
   "cell_type": "code",
   "execution_count": 2,
   "id": "fae258bf",
   "metadata": {},
   "outputs": [
    {
     "data": {
      "text/plain": [
       "list"
      ]
     },
     "execution_count": 2,
     "metadata": {},
     "output_type": "execute_result"
    }
   ],
   "source": [
    "type(lista_de_compras)"
   ]
  },
  {
   "cell_type": "code",
   "execution_count": 9,
   "id": "1516fcfd",
   "metadata": {},
   "outputs": [
    {
     "name": "stdout",
     "output_type": "stream",
     "text": [
      "Los Huevos cuestan 1.5\n",
      "La Leche cuesta 2\n"
     ]
    }
   ],
   "source": [
    "print(f\"\"\"Los {lista_de_precios[0]} cuestan {lista_de_precios[1]}\n",
    "La {lista_de_precios[2]} cuesta {lista_de_precios[3]}\"\"\")"
   ]
  },
  {
   "cell_type": "code",
   "execution_count": 13,
   "id": "484168cf",
   "metadata": {},
   "outputs": [
    {
     "name": "stdout",
     "output_type": "stream",
     "text": [
      "['Huevos', 'Leche', 'Queso', 'Jabón']\n",
      "['Huevos', 1.5, 'Leche', 2, 'Queso', 3.5, 'Jabón', 5]\n"
     ]
    }
   ],
   "source": [
    "print(lista_de_compras)\n",
    "print(lista_de_precios)"
   ]
  },
  {
   "cell_type": "markdown",
   "id": "05f0e820",
   "metadata": {},
   "source": [
    "# Mutabilidad\n",
    "\n",
    "Laslistas tienen características de permitirnos modificar el valor de alguno de sus elementos. Esto se llama mutabilidad y es importante distinguir entre objetos _mutables_, como las listras, y otros objetos _inmutables_"
   ]
  },
  {
   "cell_type": "code",
   "execution_count": 17,
   "id": "99b65e5a",
   "metadata": {},
   "outputs": [
    {
     "name": "stdout",
     "output_type": "stream",
     "text": [
      "['Huevos', 0.9, 'Leche', 2, 'Queso', 3.5, 'Jabón', 5]\n",
      "Los Huevos cuestan 0.9\n"
     ]
    }
   ],
   "source": [
    "lista_de_precios[1] = 0.9\n",
    "\n",
    "print(f\"\"\"{lista_de_precios}\n",
    "Los {lista_de_precios[0]} cuestan {lista_de_precios[1]}\"\"\")"
   ]
  },
  {
   "cell_type": "markdown",
   "id": "35179128",
   "metadata": {},
   "source": [
    "# Métodos de las listas\n",
    "\n",
    "Podemos inicializar una lista de números a través de una función llamada _range(a, b, in):\n",
    "* a es el límite inferior de la secuencia de números\n",
    "* b es un límite superior de incremento (este se incluye)\n",
    "* in es la unidad de incremento (argumento opcional)"
   ]
  },
  {
   "cell_type": "code",
   "execution_count": 18,
   "id": "84cccfa1",
   "metadata": {},
   "outputs": [
    {
     "data": {
      "text/plain": [
       "range(0, 20, 2)"
      ]
     },
     "execution_count": 18,
     "metadata": {},
     "output_type": "execute_result"
    }
   ],
   "source": [
    "range(0,20,2)"
   ]
  },
  {
   "cell_type": "code",
   "execution_count": 24,
   "id": "61c05d33",
   "metadata": {},
   "outputs": [
    {
     "name": "stdout",
     "output_type": "stream",
     "text": [
      "range(0, 20, 2)\n",
      "[0, 2, 4, 6, 8, 10, 12, 14, 16, 18]\n"
     ]
    }
   ],
   "source": [
    "numeros = range(0,20,2)\n",
    "\n",
    "lista_numeros= list(numeros)\n",
    "\n",
    "print(f\"\"\"{numeros}\n",
    "{lista_numeros}\"\"\")"
   ]
  },
  {
   "cell_type": "markdown",
   "id": "ffc6f6be",
   "metadata": {},
   "source": [
    "### Para añadir elementos a la lista utilizamos el método append()"
   ]
  },
  {
   "cell_type": "code",
   "execution_count": 25,
   "id": "49e49775",
   "metadata": {},
   "outputs": [
    {
     "name": "stdout",
     "output_type": "stream",
     "text": [
      "[0, 2, 4, 6, 8, 10, 12, 14, 16, 18, 4]\n"
     ]
    }
   ],
   "source": [
    "lista_numeros.append(4) #Agrega al final de la lista el elemento\n",
    "print(lista_numeros)"
   ]
  },
  {
   "cell_type": "markdown",
   "id": "8d19fb06",
   "metadata": {},
   "source": [
    "### Podemos aplicar el operador de la adición \"+\" para concatenenar las dos listas"
   ]
  },
  {
   "cell_type": "code",
   "execution_count": 26,
   "id": "9f81f16d",
   "metadata": {},
   "outputs": [
    {
     "data": {
      "text/plain": [
       "[0,\n",
       " 2,\n",
       " 4,\n",
       " 6,\n",
       " 8,\n",
       " 10,\n",
       " 12,\n",
       " 14,\n",
       " 16,\n",
       " 18,\n",
       " 4,\n",
       " 23,\n",
       " 66,\n",
       " 12,\n",
       " 35,\n",
       " 'hola',\n",
       " 'overtime',\n",
       " 'cyge']"
      ]
     },
     "execution_count": 26,
     "metadata": {},
     "output_type": "execute_result"
    }
   ],
   "source": [
    "lista_numeros + [23, 66, 12, 35, \"hola\", \"overtime\", \"cyge\"]"
   ]
  },
  {
   "cell_type": "code",
   "execution_count": 27,
   "id": "17110940",
   "metadata": {},
   "outputs": [
    {
     "data": {
      "text/plain": [
       "[0, 2, 4, 6, 8, 23, 66, 12, 35, 'hola', 'overtime', 'cyge']"
      ]
     },
     "execution_count": 27,
     "metadata": {},
     "output_type": "execute_result"
    }
   ],
   "source": [
    "nu_lista= lista_numeros[:5] +  [23, 66, 12, 35, \"hola\", \"overtime\", \"cyge\"]\n",
    "nu_lista"
   ]
  },
  {
   "cell_type": "markdown",
   "id": "568ef939",
   "metadata": {},
   "source": [
    "### La función len() nos permite conocer el número total de elementos"
   ]
  },
  {
   "cell_type": "code",
   "execution_count": 28,
   "id": "4b5e4ac9",
   "metadata": {},
   "outputs": [
    {
     "data": {
      "text/plain": [
       "3"
      ]
     },
     "execution_count": 28,
     "metadata": {},
     "output_type": "execute_result"
    }
   ],
   "source": [
    "len([1,2,3])"
   ]
  },
  {
   "cell_type": "code",
   "execution_count": 29,
   "id": "e90cb171",
   "metadata": {},
   "outputs": [
    {
     "data": {
      "text/plain": [
       "12"
      ]
     },
     "execution_count": 29,
     "metadata": {},
     "output_type": "execute_result"
    }
   ],
   "source": [
    "len(nu_lista)"
   ]
  },
  {
   "cell_type": "markdown",
   "id": "84261b54",
   "metadata": {},
   "source": [
    "### Podemos comprobar si algún valor existe dentro de una lista a través del término_in_"
   ]
  },
  {
   "cell_type": "code",
   "execution_count": 33,
   "id": "40c579ab",
   "metadata": {},
   "outputs": [
    {
     "data": {
      "text/plain": [
       "True"
      ]
     },
     "execution_count": 33,
     "metadata": {},
     "output_type": "execute_result"
    }
   ],
   "source": [
    "3 in [1, 2, 3]"
   ]
  },
  {
   "cell_type": "code",
   "execution_count": 34,
   "id": "c8e7e18d",
   "metadata": {},
   "outputs": [
    {
     "data": {
      "text/plain": [
       "True"
      ]
     },
     "execution_count": 34,
     "metadata": {},
     "output_type": "execute_result"
    }
   ],
   "source": [
    "\"hola\" in nu_lista"
   ]
  },
  {
   "cell_type": "code",
   "execution_count": 36,
   "id": "316d4979",
   "metadata": {},
   "outputs": [
    {
     "data": {
      "text/plain": [
       "False"
      ]
     },
     "execution_count": 36,
     "metadata": {},
     "output_type": "execute_result"
    }
   ],
   "source": [
    "\"false\" in nu_lista"
   ]
  },
  {
   "cell_type": "markdown",
   "id": "b0823d01",
   "metadata": {},
   "source": [
    "### Podemos actualizar varios elementos de una lista utilizando el _slicing_"
   ]
  },
  {
   "cell_type": "code",
   "execution_count": 37,
   "id": "1d1f9236",
   "metadata": {},
   "outputs": [
    {
     "data": {
      "text/plain": [
       "['Platos',\n",
       " 14,\n",
       " 'libros',\n",
       " 'Teclados',\n",
       " 8,\n",
       " 23,\n",
       " 66,\n",
       " 12,\n",
       " 35,\n",
       " 'hola',\n",
       " 'overtime',\n",
       " 'cyge']"
      ]
     },
     "execution_count": 37,
     "metadata": {},
     "output_type": "execute_result"
    }
   ],
   "source": [
    "nu_lista[:4] = [\"Platos\", 14, \"libros\", \"Teclados\"]\n",
    "nu_lista"
   ]
  },
  {
   "cell_type": "markdown",
   "id": "6e8192c5",
   "metadata": {},
   "source": [
    "### También podemos trabajar con listas aninadas, asignando listas como valores de uan lista."
   ]
  },
  {
   "cell_type": "code",
   "execution_count": 38,
   "id": "ef4dbeca",
   "metadata": {},
   "outputs": [
    {
     "data": {
      "text/plain": [
       "[[1, 2, 3], [4, 5, 6], [7, 8, 9]]"
      ]
     },
     "execution_count": 38,
     "metadata": {},
     "output_type": "execute_result"
    }
   ],
   "source": [
    "fila_1=[1,2,3]\n",
    "fila_2=[4,5,6]\n",
    "fila_3=[7,8,9]\n",
    "matriz=[fila_1, fila_2, fila_3]\n",
    "matriz"
   ]
  },
  {
   "cell_type": "code",
   "execution_count": 39,
   "id": "81e5eac2",
   "metadata": {},
   "outputs": [
    {
     "data": {
      "text/plain": [
       "[1, 2, 3]"
      ]
     },
     "execution_count": 39,
     "metadata": {},
     "output_type": "execute_result"
    }
   ],
   "source": [
    "matriz[0]"
   ]
  },
  {
   "cell_type": "code",
   "execution_count": 40,
   "id": "8266ac88",
   "metadata": {},
   "outputs": [
    {
     "data": {
      "text/plain": [
       "True"
      ]
     },
     "execution_count": 40,
     "metadata": {},
     "output_type": "execute_result"
    }
   ],
   "source": [
    "matriz[0]== fila_1"
   ]
  },
  {
   "cell_type": "code",
   "execution_count": 41,
   "id": "1c560408",
   "metadata": {},
   "outputs": [
    {
     "data": {
      "text/plain": [
       "2"
      ]
     },
     "execution_count": 41,
     "metadata": {},
     "output_type": "execute_result"
    }
   ],
   "source": [
    "matriz[0][1] #Entrar a un elemento de la lista"
   ]
  },
  {
   "cell_type": "code",
   "execution_count": 44,
   "id": "825d97f8",
   "metadata": {},
   "outputs": [
    {
     "data": {
      "text/plain": [
       "[5, 6]"
      ]
     },
     "execution_count": 44,
     "metadata": {},
     "output_type": "execute_result"
    }
   ],
   "source": [
    "matriz[1][1:]"
   ]
  }
 ],
 "metadata": {
  "kernelspec": {
   "display_name": "Python 3 (ipykernel)",
   "language": "python",
   "name": "python3"
  },
  "language_info": {
   "codemirror_mode": {
    "name": "ipython",
    "version": 3
   },
   "file_extension": ".py",
   "mimetype": "text/x-python",
   "name": "python",
   "nbconvert_exporter": "python",
   "pygments_lexer": "ipython3",
   "version": "3.9.12"
  }
 },
 "nbformat": 4,
 "nbformat_minor": 5
}
