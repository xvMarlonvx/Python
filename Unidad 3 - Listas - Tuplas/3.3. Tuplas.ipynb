{
 "cells": [
  {
   "cell_type": "markdown",
   "id": "c08287b7",
   "metadata": {},
   "source": [
    "# 3.3. Tuplas"
   ]
  },
  {
   "cell_type": "markdown",
   "id": "97a941db",
   "metadata": {},
   "source": [
    "Una tupla es una secuencia de valores (muy parecida a una lista). Los valores almacenados en una tupla pueden ser de cualquier tipo, y también están indexados.\n",
    "\n",
    "Se diferencia de las listas en que:\n",
    "\n",
    "* No podemos modificar sus valores luego de crearla (Es inmutable).\n",
    "* Definimos sus valores entre paréntesis, en vez de corchetes."
   ]
  },
  {
   "cell_type": "code",
   "execution_count": 6,
   "id": "274a3a74",
   "metadata": {},
   "outputs": [],
   "source": [
    "tupla= (\"Lunes\", \"Martes\", \"Miércoles\")\n",
    "tupla_multi= ([1,2,3], 'a', 71.4, tupla)"
   ]
  },
  {
   "cell_type": "code",
   "execution_count": 7,
   "id": "0e82f66b",
   "metadata": {},
   "outputs": [
    {
     "data": {
      "text/plain": [
       "([1, 2, 3], 'a', 71.4, ('Lunes', 'Martes', 'Miércoles'))"
      ]
     },
     "execution_count": 7,
     "metadata": {},
     "output_type": "execute_result"
    }
   ],
   "source": [
    "tupla_multi"
   ]
  },
  {
   "cell_type": "code",
   "execution_count": 11,
   "id": "5a01c26d",
   "metadata": {},
   "outputs": [
    {
     "data": {
      "text/plain": [
       "('Lunes', 'Martes', 'Miércoles')"
      ]
     },
     "execution_count": 11,
     "metadata": {},
     "output_type": "execute_result"
    }
   ],
   "source": [
    "tupla_multi[-1]"
   ]
  },
  {
   "cell_type": "code",
   "execution_count": 9,
   "id": "43b9600e",
   "metadata": {},
   "outputs": [
    {
     "ename": "TypeError",
     "evalue": "'tuple' object does not support item assignment",
     "output_type": "error",
     "traceback": [
      "\u001b[1;31m---------------------------------------------------------------------------\u001b[0m",
      "\u001b[1;31mTypeError\u001b[0m                                 Traceback (most recent call last)",
      "Input \u001b[1;32mIn [9]\u001b[0m, in \u001b[0;36m<cell line: 1>\u001b[1;34m()\u001b[0m\n\u001b[1;32m----> 1\u001b[0m tupla_multi[\u001b[38;5;241m0\u001b[39m] \u001b[38;5;241m=\u001b[39m \u001b[38;5;241m4\u001b[39m\n",
      "\u001b[1;31mTypeError\u001b[0m: 'tuple' object does not support item assignment"
     ]
    }
   ],
   "source": [
    "tupla_multi[0] = 4 # No permite adicionar elementos"
   ]
  },
  {
   "cell_type": "code",
   "execution_count": 13,
   "id": "3546cc92",
   "metadata": {},
   "outputs": [
    {
     "data": {
      "text/plain": [
       "['Lunes', 'Martes', 'Miércoles']"
      ]
     },
     "execution_count": 13,
     "metadata": {},
     "output_type": "execute_result"
    }
   ],
   "source": [
    "lista = list(tupla)\n",
    "lista"
   ]
  },
  {
   "cell_type": "code",
   "execution_count": 17,
   "id": "e2a3ce71",
   "metadata": {},
   "outputs": [
    {
     "data": {
      "text/plain": [
       "['Viernes', 'Martes', 'Miércoles']"
      ]
     },
     "execution_count": 17,
     "metadata": {},
     "output_type": "execute_result"
    }
   ],
   "source": [
    "lista[0]=\"Viernes\"\n",
    "lista"
   ]
  },
  {
   "cell_type": "markdown",
   "id": "a41c4d0d",
   "metadata": {},
   "source": [
    "## Métodos"
   ]
  },
  {
   "cell_type": "code",
   "execution_count": 21,
   "id": "f9fe073b",
   "metadata": {},
   "outputs": [
    {
     "data": {
      "text/plain": [
       "0"
      ]
     },
     "execution_count": 21,
     "metadata": {},
     "output_type": "execute_result"
    }
   ],
   "source": [
    "tupla.index(\"Lunes\")"
   ]
  },
  {
   "cell_type": "code",
   "execution_count": null,
   "id": "039c8043",
   "metadata": {},
   "outputs": [],
   "source": []
  },
  {
   "cell_type": "code",
   "execution_count": 19,
   "id": "6bea62d0",
   "metadata": {},
   "outputs": [
    {
     "ename": "ValueError",
     "evalue": "tuple.index(x): x not in tuple",
     "output_type": "error",
     "traceback": [
      "\u001b[1;31m---------------------------------------------------------------------------\u001b[0m",
      "\u001b[1;31mValueError\u001b[0m                                Traceback (most recent call last)",
      "Input \u001b[1;32mIn [19]\u001b[0m, in \u001b[0;36m<cell line: 1>\u001b[1;34m()\u001b[0m\n\u001b[1;32m----> 1\u001b[0m \u001b[43mtupla\u001b[49m\u001b[38;5;241;43m.\u001b[39;49m\u001b[43mindex\u001b[49m\u001b[43m(\u001b[49m\u001b[38;5;124;43m\"\u001b[39;49m\u001b[38;5;124;43mTato\u001b[39;49m\u001b[38;5;124;43m\"\u001b[39;49m\u001b[43m)\u001b[49m\n",
      "\u001b[1;31mValueError\u001b[0m: tuple.index(x): x not in tuple"
     ]
    }
   ],
   "source": [
    "tupla.index(\"Tato\")"
   ]
  },
  {
   "cell_type": "code",
   "execution_count": 20,
   "id": "f93de7f5",
   "metadata": {},
   "outputs": [
    {
     "data": {
      "text/plain": [
       "1"
      ]
     },
     "execution_count": 20,
     "metadata": {},
     "output_type": "execute_result"
    }
   ],
   "source": [
    "tupla_multi.count(71.4)"
   ]
  }
 ],
 "metadata": {
  "kernelspec": {
   "display_name": "Python 3 (ipykernel)",
   "language": "python",
   "name": "python3"
  },
  "language_info": {
   "codemirror_mode": {
    "name": "ipython",
    "version": 3
   },
   "file_extension": ".py",
   "mimetype": "text/x-python",
   "name": "python",
   "nbconvert_exporter": "python",
   "pygments_lexer": "ipython3",
   "version": "3.9.12"
  }
 },
 "nbformat": 4,
 "nbformat_minor": 5
}
